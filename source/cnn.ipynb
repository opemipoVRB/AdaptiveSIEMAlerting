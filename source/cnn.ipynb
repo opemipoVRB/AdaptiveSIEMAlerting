{
 "cells": [
  {
   "cell_type": "markdown",
   "metadata": {},
   "source": [
    "# ADAPTIVE ALERTING IN SIEM"
   ]
  },
  {
   "cell_type": "markdown",
   "metadata": {},
   "source": [
    "### (1) Importing Data:"
   ]
  },
  {
   "cell_type": "code",
   "execution_count": 1,
   "metadata": {},
   "outputs": [],
   "source": [
    "import matplotlib.pyplot as plt\n",
    "%matplotlib inline\n",
    "import numpy as np\n",
    "import pandas as pd\n",
    "from sklearn.preprocessing import MinMaxScaler\n"
   ]
  },
  {
   "cell_type": "code",
   "execution_count": 2,
   "metadata": {},
   "outputs": [
    {
     "data": {
      "text/plain": [
       "['duration',\n",
       " 'protocol_type',\n",
       " 'service',\n",
       " 'flag',\n",
       " 'src_bytes',\n",
       " 'dst_bytes',\n",
       " 'land',\n",
       " 'wrong_fragment',\n",
       " 'urgent',\n",
       " 'hot',\n",
       " 'num_failed_logins',\n",
       " 'logged_in',\n",
       " 'num_compromised',\n",
       " 'root_shell',\n",
       " 'su_attempted',\n",
       " 'num_root',\n",
       " 'num_file_creations',\n",
       " 'num_shells',\n",
       " 'num_access_files',\n",
       " 'num_outbound_cmds',\n",
       " 'is_host_login',\n",
       " 'is_guest_login',\n",
       " 'count',\n",
       " 'srv_count',\n",
       " 'serror_rate',\n",
       " 'srv_serror_rate',\n",
       " 'rerror_rate',\n",
       " 'srv_rerror_rate',\n",
       " 'same_srv_rate',\n",
       " 'diff_srv_rate',\n",
       " 'srv_diff_host_rate',\n",
       " 'dst_host_count',\n",
       " 'dst_host_srv_count',\n",
       " 'dst_host_same_srv_rate',\n",
       " 'dst_host_diff_srv_rate',\n",
       " 'dst_host_same_src_port_rate',\n",
       " 'dst_host_srv_diff_host_rate',\n",
       " 'dst_host_serror_rate',\n",
       " 'dst_host_srv_serror_rate',\n",
       " 'dst_host_rerror_rate',\n",
       " 'dst_host_srv_rerror_rate',\n",
       " 'connection_type']"
      ]
     },
     "execution_count": 2,
     "metadata": {},
     "output_type": "execute_result"
    }
   ],
   "source": [
    "kddcup_names = open(\"../datastore/kddcup.names\").read().split('\\n')\n",
    "features = []\n",
    "for feature in kddcup_names[1:]:\n",
    "    features.append(feature.split(':')[0].strip())\n",
    "\n",
    "features.append(\"connection_type\")\n",
    "features"
   ]
  },
  {
   "cell_type": "code",
   "execution_count": 3,
   "metadata": {},
   "outputs": [
    {
     "data": {
      "text/html": [
       "<div>\n",
       "<style scoped>\n",
       "    .dataframe tbody tr th:only-of-type {\n",
       "        vertical-align: middle;\n",
       "    }\n",
       "\n",
       "    .dataframe tbody tr th {\n",
       "        vertical-align: top;\n",
       "    }\n",
       "\n",
       "    .dataframe thead th {\n",
       "        text-align: right;\n",
       "    }\n",
       "</style>\n",
       "<table border=\"1\" class=\"dataframe\">\n",
       "  <thead>\n",
       "    <tr style=\"text-align: right;\">\n",
       "      <th></th>\n",
       "      <th>duration</th>\n",
       "      <th>protocol_type</th>\n",
       "      <th>service</th>\n",
       "      <th>flag</th>\n",
       "      <th>src_bytes</th>\n",
       "      <th>dst_bytes</th>\n",
       "      <th>land</th>\n",
       "      <th>wrong_fragment</th>\n",
       "      <th>urgent</th>\n",
       "      <th>hot</th>\n",
       "      <th>...</th>\n",
       "      <th>dst_host_srv_count</th>\n",
       "      <th>dst_host_same_srv_rate</th>\n",
       "      <th>dst_host_diff_srv_rate</th>\n",
       "      <th>dst_host_same_src_port_rate</th>\n",
       "      <th>dst_host_srv_diff_host_rate</th>\n",
       "      <th>dst_host_serror_rate</th>\n",
       "      <th>dst_host_srv_serror_rate</th>\n",
       "      <th>dst_host_rerror_rate</th>\n",
       "      <th>dst_host_srv_rerror_rate</th>\n",
       "      <th>connection_type</th>\n",
       "    </tr>\n",
       "  </thead>\n",
       "  <tbody>\n",
       "    <tr>\n",
       "      <th>0</th>\n",
       "      <td>0</td>\n",
       "      <td>tcp</td>\n",
       "      <td>http</td>\n",
       "      <td>SF</td>\n",
       "      <td>181</td>\n",
       "      <td>5450</td>\n",
       "      <td>0</td>\n",
       "      <td>0</td>\n",
       "      <td>0</td>\n",
       "      <td>0</td>\n",
       "      <td>...</td>\n",
       "      <td>9</td>\n",
       "      <td>1.0</td>\n",
       "      <td>0.0</td>\n",
       "      <td>0.11</td>\n",
       "      <td>0.0</td>\n",
       "      <td>0.0</td>\n",
       "      <td>0.0</td>\n",
       "      <td>0.0</td>\n",
       "      <td>0.0</td>\n",
       "      <td>normal.</td>\n",
       "    </tr>\n",
       "    <tr>\n",
       "      <th>1</th>\n",
       "      <td>0</td>\n",
       "      <td>tcp</td>\n",
       "      <td>http</td>\n",
       "      <td>SF</td>\n",
       "      <td>239</td>\n",
       "      <td>486</td>\n",
       "      <td>0</td>\n",
       "      <td>0</td>\n",
       "      <td>0</td>\n",
       "      <td>0</td>\n",
       "      <td>...</td>\n",
       "      <td>19</td>\n",
       "      <td>1.0</td>\n",
       "      <td>0.0</td>\n",
       "      <td>0.05</td>\n",
       "      <td>0.0</td>\n",
       "      <td>0.0</td>\n",
       "      <td>0.0</td>\n",
       "      <td>0.0</td>\n",
       "      <td>0.0</td>\n",
       "      <td>normal.</td>\n",
       "    </tr>\n",
       "    <tr>\n",
       "      <th>2</th>\n",
       "      <td>0</td>\n",
       "      <td>tcp</td>\n",
       "      <td>http</td>\n",
       "      <td>SF</td>\n",
       "      <td>235</td>\n",
       "      <td>1337</td>\n",
       "      <td>0</td>\n",
       "      <td>0</td>\n",
       "      <td>0</td>\n",
       "      <td>0</td>\n",
       "      <td>...</td>\n",
       "      <td>29</td>\n",
       "      <td>1.0</td>\n",
       "      <td>0.0</td>\n",
       "      <td>0.03</td>\n",
       "      <td>0.0</td>\n",
       "      <td>0.0</td>\n",
       "      <td>0.0</td>\n",
       "      <td>0.0</td>\n",
       "      <td>0.0</td>\n",
       "      <td>normal.</td>\n",
       "    </tr>\n",
       "    <tr>\n",
       "      <th>3</th>\n",
       "      <td>0</td>\n",
       "      <td>tcp</td>\n",
       "      <td>http</td>\n",
       "      <td>SF</td>\n",
       "      <td>219</td>\n",
       "      <td>1337</td>\n",
       "      <td>0</td>\n",
       "      <td>0</td>\n",
       "      <td>0</td>\n",
       "      <td>0</td>\n",
       "      <td>...</td>\n",
       "      <td>39</td>\n",
       "      <td>1.0</td>\n",
       "      <td>0.0</td>\n",
       "      <td>0.03</td>\n",
       "      <td>0.0</td>\n",
       "      <td>0.0</td>\n",
       "      <td>0.0</td>\n",
       "      <td>0.0</td>\n",
       "      <td>0.0</td>\n",
       "      <td>normal.</td>\n",
       "    </tr>\n",
       "    <tr>\n",
       "      <th>4</th>\n",
       "      <td>0</td>\n",
       "      <td>tcp</td>\n",
       "      <td>http</td>\n",
       "      <td>SF</td>\n",
       "      <td>217</td>\n",
       "      <td>2032</td>\n",
       "      <td>0</td>\n",
       "      <td>0</td>\n",
       "      <td>0</td>\n",
       "      <td>0</td>\n",
       "      <td>...</td>\n",
       "      <td>49</td>\n",
       "      <td>1.0</td>\n",
       "      <td>0.0</td>\n",
       "      <td>0.02</td>\n",
       "      <td>0.0</td>\n",
       "      <td>0.0</td>\n",
       "      <td>0.0</td>\n",
       "      <td>0.0</td>\n",
       "      <td>0.0</td>\n",
       "      <td>normal.</td>\n",
       "    </tr>\n",
       "  </tbody>\n",
       "</table>\n",
       "<p>5 rows × 42 columns</p>\n",
       "</div>"
      ],
      "text/plain": [
       "   duration protocol_type service flag  src_bytes  dst_bytes  land  \\\n",
       "0         0           tcp    http   SF        181       5450     0   \n",
       "1         0           tcp    http   SF        239        486     0   \n",
       "2         0           tcp    http   SF        235       1337     0   \n",
       "3         0           tcp    http   SF        219       1337     0   \n",
       "4         0           tcp    http   SF        217       2032     0   \n",
       "\n",
       "   wrong_fragment  urgent  hot  ...  dst_host_srv_count  \\\n",
       "0               0       0    0  ...                   9   \n",
       "1               0       0    0  ...                  19   \n",
       "2               0       0    0  ...                  29   \n",
       "3               0       0    0  ...                  39   \n",
       "4               0       0    0  ...                  49   \n",
       "\n",
       "   dst_host_same_srv_rate  dst_host_diff_srv_rate  \\\n",
       "0                     1.0                     0.0   \n",
       "1                     1.0                     0.0   \n",
       "2                     1.0                     0.0   \n",
       "3                     1.0                     0.0   \n",
       "4                     1.0                     0.0   \n",
       "\n",
       "   dst_host_same_src_port_rate  dst_host_srv_diff_host_rate  \\\n",
       "0                         0.11                          0.0   \n",
       "1                         0.05                          0.0   \n",
       "2                         0.03                          0.0   \n",
       "3                         0.03                          0.0   \n",
       "4                         0.02                          0.0   \n",
       "\n",
       "   dst_host_serror_rate  dst_host_srv_serror_rate  dst_host_rerror_rate  \\\n",
       "0                   0.0                       0.0                   0.0   \n",
       "1                   0.0                       0.0                   0.0   \n",
       "2                   0.0                       0.0                   0.0   \n",
       "3                   0.0                       0.0                   0.0   \n",
       "4                   0.0                       0.0                   0.0   \n",
       "\n",
       "   dst_host_srv_rerror_rate  connection_type  \n",
       "0                       0.0          normal.  \n",
       "1                       0.0          normal.  \n",
       "2                       0.0          normal.  \n",
       "3                       0.0          normal.  \n",
       "4                       0.0          normal.  \n",
       "\n",
       "[5 rows x 42 columns]"
      ]
     },
     "execution_count": 3,
     "metadata": {},
     "output_type": "execute_result"
    }
   ],
   "source": [
    "data = pd.read_csv('../datastore/kddcup.data_10_percent', names=features, index_col=False, header=None)\n",
    "data.head()"
   ]
  },
  {
   "cell_type": "code",
   "execution_count": 4,
   "metadata": {},
   "outputs": [
    {
     "name": "stdout",
     "output_type": "stream",
     "text": [
      "========================================\n",
      "Number of data points are: 494021\n",
      "========================================\n",
      "Number of features are: 42\n",
      "========================================\n",
      "Some of the features are: ['duration', 'protocol_type', 'service', 'flag', 'src_bytes', 'dst_bytes', 'land', 'wrong_fragment', 'urgent', 'hot']\n",
      "========================================\n"
     ]
    }
   ],
   "source": [
    "print('='*40)\n",
    "print('Number of data points are:',data.shape[0])\n",
    "print('='*40)\n",
    "print('Number of features are:',data.shape[1])\n",
    "print('='*40)\n",
    "print('Some of the features are:',features[:10])\n",
    "print('='*40)"
   ]
  },
  {
   "cell_type": "code",
   "execution_count": 5,
   "metadata": {},
   "outputs": [
    {
     "data": {
      "text/html": [
       "<div>\n",
       "<style scoped>\n",
       "    .dataframe tbody tr th:only-of-type {\n",
       "        vertical-align: middle;\n",
       "    }\n",
       "\n",
       "    .dataframe tbody tr th {\n",
       "        vertical-align: top;\n",
       "    }\n",
       "\n",
       "    .dataframe thead th {\n",
       "        text-align: right;\n",
       "    }\n",
       "</style>\n",
       "<table border=\"1\" class=\"dataframe\">\n",
       "  <thead>\n",
       "    <tr style=\"text-align: right;\">\n",
       "      <th></th>\n",
       "      <th>duration</th>\n",
       "      <th>protocol_type</th>\n",
       "      <th>service</th>\n",
       "      <th>flag</th>\n",
       "      <th>src_bytes</th>\n",
       "      <th>dst_bytes</th>\n",
       "      <th>land</th>\n",
       "      <th>wrong_fragment</th>\n",
       "      <th>urgent</th>\n",
       "      <th>hot</th>\n",
       "      <th>...</th>\n",
       "      <th>dst_host_srv_count</th>\n",
       "      <th>dst_host_same_srv_rate</th>\n",
       "      <th>dst_host_diff_srv_rate</th>\n",
       "      <th>dst_host_same_src_port_rate</th>\n",
       "      <th>dst_host_srv_diff_host_rate</th>\n",
       "      <th>dst_host_serror_rate</th>\n",
       "      <th>dst_host_srv_serror_rate</th>\n",
       "      <th>dst_host_rerror_rate</th>\n",
       "      <th>dst_host_srv_rerror_rate</th>\n",
       "      <th>connection_type</th>\n",
       "    </tr>\n",
       "  </thead>\n",
       "  <tbody>\n",
       "    <tr>\n",
       "      <th>0</th>\n",
       "      <td>0</td>\n",
       "      <td>tcp</td>\n",
       "      <td>http</td>\n",
       "      <td>SF</td>\n",
       "      <td>181</td>\n",
       "      <td>5450</td>\n",
       "      <td>0</td>\n",
       "      <td>0</td>\n",
       "      <td>0</td>\n",
       "      <td>0</td>\n",
       "      <td>...</td>\n",
       "      <td>9</td>\n",
       "      <td>1.0</td>\n",
       "      <td>0.0</td>\n",
       "      <td>0.11</td>\n",
       "      <td>0.00</td>\n",
       "      <td>0.00</td>\n",
       "      <td>0.00</td>\n",
       "      <td>0.0</td>\n",
       "      <td>0.0</td>\n",
       "      <td>normal.</td>\n",
       "    </tr>\n",
       "    <tr>\n",
       "      <th>1</th>\n",
       "      <td>0</td>\n",
       "      <td>tcp</td>\n",
       "      <td>http</td>\n",
       "      <td>SF</td>\n",
       "      <td>239</td>\n",
       "      <td>486</td>\n",
       "      <td>0</td>\n",
       "      <td>0</td>\n",
       "      <td>0</td>\n",
       "      <td>0</td>\n",
       "      <td>...</td>\n",
       "      <td>19</td>\n",
       "      <td>1.0</td>\n",
       "      <td>0.0</td>\n",
       "      <td>0.05</td>\n",
       "      <td>0.00</td>\n",
       "      <td>0.00</td>\n",
       "      <td>0.00</td>\n",
       "      <td>0.0</td>\n",
       "      <td>0.0</td>\n",
       "      <td>normal.</td>\n",
       "    </tr>\n",
       "    <tr>\n",
       "      <th>2</th>\n",
       "      <td>0</td>\n",
       "      <td>tcp</td>\n",
       "      <td>http</td>\n",
       "      <td>SF</td>\n",
       "      <td>235</td>\n",
       "      <td>1337</td>\n",
       "      <td>0</td>\n",
       "      <td>0</td>\n",
       "      <td>0</td>\n",
       "      <td>0</td>\n",
       "      <td>...</td>\n",
       "      <td>29</td>\n",
       "      <td>1.0</td>\n",
       "      <td>0.0</td>\n",
       "      <td>0.03</td>\n",
       "      <td>0.00</td>\n",
       "      <td>0.00</td>\n",
       "      <td>0.00</td>\n",
       "      <td>0.0</td>\n",
       "      <td>0.0</td>\n",
       "      <td>normal.</td>\n",
       "    </tr>\n",
       "    <tr>\n",
       "      <th>3</th>\n",
       "      <td>0</td>\n",
       "      <td>tcp</td>\n",
       "      <td>http</td>\n",
       "      <td>SF</td>\n",
       "      <td>219</td>\n",
       "      <td>1337</td>\n",
       "      <td>0</td>\n",
       "      <td>0</td>\n",
       "      <td>0</td>\n",
       "      <td>0</td>\n",
       "      <td>...</td>\n",
       "      <td>39</td>\n",
       "      <td>1.0</td>\n",
       "      <td>0.0</td>\n",
       "      <td>0.03</td>\n",
       "      <td>0.00</td>\n",
       "      <td>0.00</td>\n",
       "      <td>0.00</td>\n",
       "      <td>0.0</td>\n",
       "      <td>0.0</td>\n",
       "      <td>normal.</td>\n",
       "    </tr>\n",
       "    <tr>\n",
       "      <th>4</th>\n",
       "      <td>0</td>\n",
       "      <td>tcp</td>\n",
       "      <td>http</td>\n",
       "      <td>SF</td>\n",
       "      <td>217</td>\n",
       "      <td>2032</td>\n",
       "      <td>0</td>\n",
       "      <td>0</td>\n",
       "      <td>0</td>\n",
       "      <td>0</td>\n",
       "      <td>...</td>\n",
       "      <td>49</td>\n",
       "      <td>1.0</td>\n",
       "      <td>0.0</td>\n",
       "      <td>0.02</td>\n",
       "      <td>0.00</td>\n",
       "      <td>0.00</td>\n",
       "      <td>0.00</td>\n",
       "      <td>0.0</td>\n",
       "      <td>0.0</td>\n",
       "      <td>normal.</td>\n",
       "    </tr>\n",
       "    <tr>\n",
       "      <th>...</th>\n",
       "      <td>...</td>\n",
       "      <td>...</td>\n",
       "      <td>...</td>\n",
       "      <td>...</td>\n",
       "      <td>...</td>\n",
       "      <td>...</td>\n",
       "      <td>...</td>\n",
       "      <td>...</td>\n",
       "      <td>...</td>\n",
       "      <td>...</td>\n",
       "      <td>...</td>\n",
       "      <td>...</td>\n",
       "      <td>...</td>\n",
       "      <td>...</td>\n",
       "      <td>...</td>\n",
       "      <td>...</td>\n",
       "      <td>...</td>\n",
       "      <td>...</td>\n",
       "      <td>...</td>\n",
       "      <td>...</td>\n",
       "      <td>...</td>\n",
       "    </tr>\n",
       "    <tr>\n",
       "      <th>494016</th>\n",
       "      <td>0</td>\n",
       "      <td>tcp</td>\n",
       "      <td>http</td>\n",
       "      <td>SF</td>\n",
       "      <td>310</td>\n",
       "      <td>1881</td>\n",
       "      <td>0</td>\n",
       "      <td>0</td>\n",
       "      <td>0</td>\n",
       "      <td>0</td>\n",
       "      <td>...</td>\n",
       "      <td>255</td>\n",
       "      <td>1.0</td>\n",
       "      <td>0.0</td>\n",
       "      <td>0.01</td>\n",
       "      <td>0.05</td>\n",
       "      <td>0.00</td>\n",
       "      <td>0.01</td>\n",
       "      <td>0.0</td>\n",
       "      <td>0.0</td>\n",
       "      <td>normal.</td>\n",
       "    </tr>\n",
       "    <tr>\n",
       "      <th>494017</th>\n",
       "      <td>0</td>\n",
       "      <td>tcp</td>\n",
       "      <td>http</td>\n",
       "      <td>SF</td>\n",
       "      <td>282</td>\n",
       "      <td>2286</td>\n",
       "      <td>0</td>\n",
       "      <td>0</td>\n",
       "      <td>0</td>\n",
       "      <td>0</td>\n",
       "      <td>...</td>\n",
       "      <td>255</td>\n",
       "      <td>1.0</td>\n",
       "      <td>0.0</td>\n",
       "      <td>0.17</td>\n",
       "      <td>0.05</td>\n",
       "      <td>0.00</td>\n",
       "      <td>0.01</td>\n",
       "      <td>0.0</td>\n",
       "      <td>0.0</td>\n",
       "      <td>normal.</td>\n",
       "    </tr>\n",
       "    <tr>\n",
       "      <th>494018</th>\n",
       "      <td>0</td>\n",
       "      <td>tcp</td>\n",
       "      <td>http</td>\n",
       "      <td>SF</td>\n",
       "      <td>203</td>\n",
       "      <td>1200</td>\n",
       "      <td>0</td>\n",
       "      <td>0</td>\n",
       "      <td>0</td>\n",
       "      <td>0</td>\n",
       "      <td>...</td>\n",
       "      <td>255</td>\n",
       "      <td>1.0</td>\n",
       "      <td>0.0</td>\n",
       "      <td>0.06</td>\n",
       "      <td>0.05</td>\n",
       "      <td>0.06</td>\n",
       "      <td>0.01</td>\n",
       "      <td>0.0</td>\n",
       "      <td>0.0</td>\n",
       "      <td>normal.</td>\n",
       "    </tr>\n",
       "    <tr>\n",
       "      <th>494019</th>\n",
       "      <td>0</td>\n",
       "      <td>tcp</td>\n",
       "      <td>http</td>\n",
       "      <td>SF</td>\n",
       "      <td>291</td>\n",
       "      <td>1200</td>\n",
       "      <td>0</td>\n",
       "      <td>0</td>\n",
       "      <td>0</td>\n",
       "      <td>0</td>\n",
       "      <td>...</td>\n",
       "      <td>255</td>\n",
       "      <td>1.0</td>\n",
       "      <td>0.0</td>\n",
       "      <td>0.04</td>\n",
       "      <td>0.05</td>\n",
       "      <td>0.04</td>\n",
       "      <td>0.01</td>\n",
       "      <td>0.0</td>\n",
       "      <td>0.0</td>\n",
       "      <td>normal.</td>\n",
       "    </tr>\n",
       "    <tr>\n",
       "      <th>494020</th>\n",
       "      <td>0</td>\n",
       "      <td>tcp</td>\n",
       "      <td>http</td>\n",
       "      <td>SF</td>\n",
       "      <td>219</td>\n",
       "      <td>1234</td>\n",
       "      <td>0</td>\n",
       "      <td>0</td>\n",
       "      <td>0</td>\n",
       "      <td>0</td>\n",
       "      <td>...</td>\n",
       "      <td>255</td>\n",
       "      <td>1.0</td>\n",
       "      <td>0.0</td>\n",
       "      <td>0.17</td>\n",
       "      <td>0.05</td>\n",
       "      <td>0.00</td>\n",
       "      <td>0.01</td>\n",
       "      <td>0.0</td>\n",
       "      <td>0.0</td>\n",
       "      <td>normal.</td>\n",
       "    </tr>\n",
       "  </tbody>\n",
       "</table>\n",
       "<p>494021 rows × 42 columns</p>\n",
       "</div>"
      ],
      "text/plain": [
       "        duration protocol_type service flag  src_bytes  dst_bytes  land  \\\n",
       "0              0           tcp    http   SF        181       5450     0   \n",
       "1              0           tcp    http   SF        239        486     0   \n",
       "2              0           tcp    http   SF        235       1337     0   \n",
       "3              0           tcp    http   SF        219       1337     0   \n",
       "4              0           tcp    http   SF        217       2032     0   \n",
       "...          ...           ...     ...  ...        ...        ...   ...   \n",
       "494016         0           tcp    http   SF        310       1881     0   \n",
       "494017         0           tcp    http   SF        282       2286     0   \n",
       "494018         0           tcp    http   SF        203       1200     0   \n",
       "494019         0           tcp    http   SF        291       1200     0   \n",
       "494020         0           tcp    http   SF        219       1234     0   \n",
       "\n",
       "        wrong_fragment  urgent  hot  ...  dst_host_srv_count  \\\n",
       "0                    0       0    0  ...                   9   \n",
       "1                    0       0    0  ...                  19   \n",
       "2                    0       0    0  ...                  29   \n",
       "3                    0       0    0  ...                  39   \n",
       "4                    0       0    0  ...                  49   \n",
       "...                ...     ...  ...  ...                 ...   \n",
       "494016               0       0    0  ...                 255   \n",
       "494017               0       0    0  ...                 255   \n",
       "494018               0       0    0  ...                 255   \n",
       "494019               0       0    0  ...                 255   \n",
       "494020               0       0    0  ...                 255   \n",
       "\n",
       "        dst_host_same_srv_rate  dst_host_diff_srv_rate  \\\n",
       "0                          1.0                     0.0   \n",
       "1                          1.0                     0.0   \n",
       "2                          1.0                     0.0   \n",
       "3                          1.0                     0.0   \n",
       "4                          1.0                     0.0   \n",
       "...                        ...                     ...   \n",
       "494016                     1.0                     0.0   \n",
       "494017                     1.0                     0.0   \n",
       "494018                     1.0                     0.0   \n",
       "494019                     1.0                     0.0   \n",
       "494020                     1.0                     0.0   \n",
       "\n",
       "        dst_host_same_src_port_rate  dst_host_srv_diff_host_rate  \\\n",
       "0                              0.11                         0.00   \n",
       "1                              0.05                         0.00   \n",
       "2                              0.03                         0.00   \n",
       "3                              0.03                         0.00   \n",
       "4                              0.02                         0.00   \n",
       "...                             ...                          ...   \n",
       "494016                         0.01                         0.05   \n",
       "494017                         0.17                         0.05   \n",
       "494018                         0.06                         0.05   \n",
       "494019                         0.04                         0.05   \n",
       "494020                         0.17                         0.05   \n",
       "\n",
       "        dst_host_serror_rate  dst_host_srv_serror_rate  dst_host_rerror_rate  \\\n",
       "0                       0.00                      0.00                   0.0   \n",
       "1                       0.00                      0.00                   0.0   \n",
       "2                       0.00                      0.00                   0.0   \n",
       "3                       0.00                      0.00                   0.0   \n",
       "4                       0.00                      0.00                   0.0   \n",
       "...                      ...                       ...                   ...   \n",
       "494016                  0.00                      0.01                   0.0   \n",
       "494017                  0.00                      0.01                   0.0   \n",
       "494018                  0.06                      0.01                   0.0   \n",
       "494019                  0.04                      0.01                   0.0   \n",
       "494020                  0.00                      0.01                   0.0   \n",
       "\n",
       "        dst_host_srv_rerror_rate  connection_type  \n",
       "0                            0.0          normal.  \n",
       "1                            0.0          normal.  \n",
       "2                            0.0          normal.  \n",
       "3                            0.0          normal.  \n",
       "4                            0.0          normal.  \n",
       "...                          ...              ...  \n",
       "494016                       0.0          normal.  \n",
       "494017                       0.0          normal.  \n",
       "494018                       0.0          normal.  \n",
       "494019                       0.0          normal.  \n",
       "494020                       0.0          normal.  \n",
       "\n",
       "[494021 rows x 42 columns]"
      ]
     },
     "execution_count": 5,
     "metadata": {},
     "output_type": "execute_result"
    }
   ],
   "source": [
    "data"
   ]
  },
  {
   "cell_type": "code",
   "execution_count": 6,
   "metadata": {},
   "outputs": [
    {
     "name": "stdout",
     "output_type": "stream",
     "text": [
      "The different type of output labels are: {'satan.', 'portsweep.', 'warezmaster.', 'land.', 'pod.', 'imap.', 'rootkit.', 'ftp_write.', 'loadmodule.', 'normal.', 'perl.', 'guess_passwd.', 'phf.', 'back.', 'spy.', 'teardrop.', 'ipsweep.', 'nmap.', 'multihop.', 'warezclient.', 'smurf.', 'buffer_overflow.', 'neptune.'}\n",
      "=============================================================================================================================\n",
      "No. of different output labels are: 23\n"
     ]
    }
   ],
   "source": [
    "output = data['connection_type'].values\n",
    "labels = set(output)\n",
    "print('The different type of output labels are:',labels)\n",
    "print('='*125)\n",
    "print('No. of different output labels are:', len(labels))"
   ]
  },
  {
   "cell_type": "markdown",
   "metadata": {},
   "source": [
    "### (2) Data Cleaning"
   ]
  },
  {
   "cell_type": "code",
   "execution_count": 7,
   "metadata": {},
   "outputs": [
    {
     "name": "stdout",
     "output_type": "stream",
     "text": [
      "Null values in dataset are 0\n"
     ]
    }
   ],
   "source": [
    "print('Null values in dataset are',len(data[data.isnull().any(1)]))"
   ]
  },
  {
   "cell_type": "code",
   "execution_count": 8,
   "metadata": {},
   "outputs": [
    {
     "data": {
      "text/plain": [
       "0    normal.\n",
       "1    normal.\n",
       "2    normal.\n",
       "3    normal.\n",
       "4    normal.\n",
       "Name: connection_type, dtype: object"
      ]
     },
     "execution_count": 8,
     "metadata": {},
     "output_type": "execute_result"
    }
   ],
   "source": [
    "data.connection_type.head()"
   ]
  },
  {
   "cell_type": "markdown",
   "metadata": {},
   "source": [
    "Observed that there is an extra '.' in the 'connection_type' column after the connection type. For better visualization and interpretation, we remove the '.'."
   ]
  },
  {
   "cell_type": "code",
   "execution_count": 9,
   "metadata": {},
   "outputs": [
    {
     "data": {
      "text/plain": [
       "0    normal\n",
       "1    normal\n",
       "2    normal\n",
       "3    normal\n",
       "4    normal\n",
       "Name: connection_type, dtype: object"
      ]
     },
     "execution_count": 9,
     "metadata": {},
     "output_type": "execute_result"
    }
   ],
   "source": [
    "data['connection_type'] = data['connection_type'].apply(lambda x : str(x)[:-1])\n",
    "data.connection_type.head()"
   ]
  },
  {
   "cell_type": "markdown",
   "metadata": {},
   "source": [
    "Scaling all the numeric features between 0 and 1. Since we are given a detailed description of the data set features denoting which features are continuous and which are discrete along with the data types."
   ]
  },
  {
   "cell_type": "code",
   "execution_count": 10,
   "metadata": {},
   "outputs": [
    {
     "data": {
      "text/plain": [
       "(145586, 42)"
      ]
     },
     "execution_count": 10,
     "metadata": {},
     "output_type": "execute_result"
    }
   ],
   "source": [
    "data.drop_duplicates(subset=features, keep='first', inplace=True)\n",
    "data.shape"
   ]
  },
  {
   "cell_type": "code",
   "execution_count": 11,
   "metadata": {},
   "outputs": [],
   "source": [
    "data.to_pickle('data.pkl')\n",
    "data = pd.read_pickle('data.pkl')"
   ]
  },
  {
   "cell_type": "markdown",
   "metadata": {},
   "source": [
    "### (3) Exploratory Data Analysis"
   ]
  },
  {
   "cell_type": "markdown",
   "metadata": {},
   "source": [
    "Visualization of attack distribution over dataset"
   ]
  },
  {
   "cell_type": "code",
   "execution_count": 12,
   "metadata": {},
   "outputs": [
    {
     "data": {
      "image/png": "[encoded data removed]",
      "text/plain": [
       "<Figure size 1440x1080 with 1 Axes>"
      ]
     },
     "metadata": {
      "needs_background": "light"
     },
     "output_type": "display_data"
    }
   ],
   "source": [
    "plt.figure(figsize=(20,15))\n",
    "class_distribution = data['connection_type'].value_counts()\n",
    "class_distribution.plot(kind='bar')\n",
    "plt.xlabel('Connection Type')\n",
    "plt.ylabel('Datapoints per attack')\n",
    "plt.title('Distribution of attacks in train data')\n",
    "plt.grid()\n",
    "plt.show()"
   ]
  },
  {
   "cell_type": "code",
   "execution_count": 13,
   "metadata": {},
   "outputs": [
    {
     "data": {
      "image/png": "[encoded data removed]",
      "text/plain": [
       "<Figure size 1440x1080 with 1 Axes>"
      ]
     },
     "metadata": {
      "needs_background": "light"
     },
     "output_type": "display_data"
    }
   ],
   "source": [
    "plt.figure(figsize=(20,15))\n",
    "plt.yscale(\"log\")\n",
    "data[\"connection_type\"].value_counts().plot(kind=\"bar\")\n",
    "plt.title('Distribution of attacks in train data  with (Yscale on Log)')\n",
    "plt.ylabel(\"Count\")\n",
    "plt.xlabel(\"Connection types\")\n",
    "plt.grid()\n",
    "plt.show()"
   ]
  },
  {
   "cell_type": "code",
   "execution_count": 14,
   "metadata": {},
   "outputs": [
    {
     "name": "stdout",
     "output_type": "stream",
     "text": [
      "Number of data points in class 1 : 87832 ( 60.33 %)\n",
      "Number of data points in class 2 : 51820 ( 35.594 %)\n",
      "Number of data points in class 3 : 968 ( 0.665 %)\n",
      "Number of data points in class 4 : 918 ( 0.631 %)\n",
      "Number of data points in class 5 : 906 ( 0.622 %)\n",
      "Number of data points in class 6 : 893 ( 0.613 %)\n",
      "Number of data points in class 7 : 651 ( 0.447 %)\n",
      "Number of data points in class 8 : 641 ( 0.44 %)\n",
      "Number of data points in class 9 : 416 ( 0.286 %)\n",
      "Number of data points in class 10 : 206 ( 0.141 %)\n",
      "Number of data points in class 11 : 158 ( 0.109 %)\n",
      "Number of data points in class 12 : 53 ( 0.036 %)\n",
      "Number of data points in class 13 : 30 ( 0.021 %)\n",
      "Number of data points in class 14 : 20 ( 0.014 %)\n",
      "Number of data points in class 15 : 19 ( 0.013 %)\n",
      "Number of data points in class 16 : 12 ( 0.008 %)\n",
      "Number of data points in class 17 : 10 ( 0.007 %)\n",
      "Number of data points in class 18 : 9 ( 0.006 %)\n",
      "Number of data points in class 19 : 8 ( 0.005 %)\n",
      "Number of data points in class 20 : 7 ( 0.005 %)\n",
      "Number of data points in class 21 : 4 ( 0.003 %)\n",
      "Number of data points in class 22 : 3 ( 0.002 %)\n",
      "Number of data points in class 23 : 2 ( 0.001 %)\n"
     ]
    }
   ],
   "source": [
    "sorted_y = np.argsort(-class_distribution.values)\n",
    "for i in sorted_y:\n",
    "    print('Number of data points in class', i+1,':', class_distribution.values[i], '(', np.round((class_distribution.values[i]/data.shape[0]*100), 3), '%)')"
   ]
  },
  {
   "cell_type": "code",
   "execution_count": 15,
   "metadata": {},
   "outputs": [
    {
     "data": {
      "image/png": "[encoded data removed]",
      "text/plain": [
       "<Figure size 1440x720 with 1 Axes>"
      ]
     },
     "metadata": {
      "needs_background": "light"
     },
     "output_type": "display_data"
    },
    {
     "name": "stdout",
     "output_type": "stream",
     "text": [
      "Percentage for  Normal Connection : 87832 ( 60.33 %)\n",
      "Percentage for  Attack : 57754 ( 39.67 %)\n"
     ]
    }
   ],
   "source": [
    "data[\"label\"] = data[\"connection_type\"] != 'normal'\n",
    "data[\"label\"] = data[\"label\"].apply(lambda x : int(x))\n",
    "data.label.head()\n",
    "\n",
    "plt.figure(figsize=(20,10))\n",
    "plt.title(\"Normal connections vs attack\")\n",
    "connection_type_distribution = data['label'].value_counts()\n",
    "connection_type_distribution.plot(kind='bar')\n",
    "plt.ylabel(\"Count\")\n",
    "plt.xlabel(\"Normal connections and attack\")\n",
    "plt.grid()\n",
    "plt.show()\n",
    "\n",
    "sorted_y = np.argsort(-connection_type_distribution.values)\n",
    "for i in sorted_y:\n",
    "    print('Percentage for ', \"Normal Connection\" if i==0 else \"Attack\",':', connection_type_distribution.values[i], '(', np.round((connection_type_distribution.values[i]/data.shape[0]*100), 3), '%)')"
   ]
  },
  {
   "cell_type": "code",
   "execution_count": 16,
   "metadata": {},
   "outputs": [],
   "source": [
    "DF_normal = data[data[\"label\"] == 0]\n",
    "DF_attacked = data[data[\"label\"] == 1]"
   ]
  },
  {
   "cell_type": "code",
   "execution_count": 17,
   "metadata": {},
   "outputs": [],
   "source": [
    "def plotHists(i, threshold = 0):\n",
    "    plt.figure(figsize = [10,10])\n",
    "    plt.subplot(2, 1, 1)\n",
    "    plt.title('Histogram for '+i+': Normal connections')\n",
    "    plt.yscale('log')\n",
    "    plt.hist(DF_normal[DF_normal[i] > threshold][i], bins=300, color='green')\n",
    "    plt.ylabel(\"Count\")\n",
    "    plt.xlabel(i+\" Values\")\n",
    "    plt.subplot(2, 1, 2)\n",
    "    plt.title('Histogram for '+i+': Attacked connections')\n",
    "    plt.yscale('log')\n",
    "    plt.hist(DF_attacked[DF_attacked[i] > threshold][i], bins = 300, color='red')\n",
    "    plt.ylabel(\"Count\")\n",
    "    plt.xlabel(i+\" Values\")\n",
    "    plt.show()"
   ]
  },
  {
   "cell_type": "code",
   "execution_count": 18,
   "metadata": {},
   "outputs": [
    {
     "data": {
      "text/plain": [
       "0    0\n",
       "1    0\n",
       "2    0\n",
       "3    0\n",
       "4    0\n",
       "Name: label, dtype: int64"
      ]
     },
     "execution_count": 18,
     "metadata": {},
     "output_type": "execute_result"
    }
   ],
   "source": [
    "data[\"label\"] = data[\"connection_type\"] != 'normal'\n",
    "data[\"label\"] = data[\"label\"].apply(lambda x : int(x))\n",
    "data.label.head()"
   ]
  },
  {
   "cell_type": "code",
   "execution_count": 19,
   "metadata": {},
   "outputs": [
    {
     "data": {
      "image/png": "[encoded data removed]",
      "text/plain": [
       "<Figure size 720x720 with 2 Axes>"
      ]
     },
     "metadata": {
      "needs_background": "light"
     },
     "output_type": "display_data"
    }
   ],
   "source": [
    "plotHists(\"duration\")"
   ]
  },
  {
   "cell_type": "markdown",
   "metadata": {},
   "source": [
    "From observation, the duration is concentrated towards smaller values in normal connections. Even though the duration values for attacks are spread over the entire range of values, we can conclude that if a connection's duration is more than 0.5, it might probably be an attack"
   ]
  },
  {
   "cell_type": "code",
   "execution_count": 20,
   "metadata": {},
   "outputs": [
    {
     "data": {
      "image/png": "[encoded data removed]",
      "text/plain": [
       "<Figure size 720x720 with 2 Axes>"
      ]
     },
     "metadata": {
      "needs_background": "light"
     },
     "output_type": "display_data"
    }
   ],
   "source": [
    "plotHists(\"count\")"
   ]
  },
  {
   "cell_type": "markdown",
   "metadata": {},
   "source": [
    "Frequency of connections to the same host is concentrated at smaller values for normal connections. However, for attacks, there is a surge between values 0.2 and 0.6 which could denote an attack."
   ]
  },
  {
   "cell_type": "markdown",
   "metadata": {},
   "source": [
    "### Univariate Analysis and Bivariate Analysis using pairplot"
   ]
  },
  {
   "cell_type": "code",
   "execution_count": 21,
   "metadata": {},
   "outputs": [
    {
     "data": {
      "text/plain": [
       "(array([ 0,  1,  2,  3,  4,  5,  6,  7,  8,  9, 10, 11, 12, 13, 14, 15, 16,\n",
       "        17, 18, 19, 20, 21, 22]),\n",
       " <a list of 23 Text major ticklabel objects>)"
      ]
     },
     "execution_count": 21,
     "metadata": {},
     "output_type": "execute_result"
    },
    {
     "data": {
      "image/png": "[encoded data removed]",
      "text/plain": [
       "<Figure size 1440x1152 with 1 Axes>"
      ]
     },
     "metadata": {
      "needs_background": "light"
     },
     "output_type": "display_data"
    }
   ],
   "source": [
    "import seaborn as sns\n",
    "plt.figure(figsize=(20,16))\n",
    "plt.title('Duration vs Connection_Type')\n",
    "sns.set(style=\"whitegrid\")\n",
    "ax = sns.violinplot(x=\"connection_type\", y=\"duration\", data=data, fliersize=None)\n",
    "plt.xticks(\n",
    "    rotation=45, \n",
    "    horizontalalignment='right',\n",
    "    fontweight='light',\n",
    "    fontsize='x-large'  \n",
    ")"
   ]
  },
  {
   "cell_type": "code",
   "execution_count": 22,
   "metadata": {},
   "outputs": [],
   "source": [
    "def pairplot(data, label, features=[]):\n",
    "    '''\n",
    "    This function creates pairplot taking 4 features from our dataset as default parameters along with the output variable\n",
    "    '''\n",
    "    sns.pairplot(data, hue=label, height=4, diag_kind='hist',   vars=features, plot_kws={'alpha':0.6, 's':80, 'edgecolor':'k'})"
   ]
  },
  {
   "cell_type": "code",
   "execution_count": 23,
   "metadata": {},
   "outputs": [],
   "source": [
    "#pairplot(data, \"connection_type\", features=[ \"num_access_files\", \"num_shells\",\"count\" , \"num_outbound_cmds\"])"
   ]
  },
  {
   "cell_type": "code",
   "execution_count": 24,
   "metadata": {},
   "outputs": [],
   "source": [
    "#pairplot(data, \"connection_type\", features=[ \"rerror_rate\", \"serror_rate\",\"srv_count\", \"srv_serror_rate\"])"
   ]
  },
  {
   "cell_type": "code",
   "execution_count": 25,
   "metadata": {},
   "outputs": [],
   "source": [
    "#pairplot(data, 'connection_type', features=['dst_host_count','dst_host_srv_count','dst_host_same_srv_rate','dst_host_diff_srv_rate'])"
   ]
  },
  {
   "cell_type": "code",
   "execution_count": 26,
   "metadata": {},
   "outputs": [],
   "source": [
    "#pairplot(data, 'connection_type', features=['dst_host_same_src_port_rate','dst_host_srv_diff_host_rate','dst_host_serror_rate','dst_host_srv_serror_rate'])"
   ]
  },
  {
   "cell_type": "markdown",
   "metadata": {},
   "source": [
    "#### Observation\n",
    "\n",
    "\n",
    "No linear separability but almost linear separability between the different output categories."
   ]
  },
  {
   "cell_type": "markdown",
   "metadata": {},
   "source": [
    "\n",
    "### TSNE for Bivariate Analysis ( t-Distributed Stochastic Neighbor Embedding)"
   ]
  },
  {
   "cell_type": "code",
   "execution_count": 27,
   "metadata": {},
   "outputs": [],
   "source": [
    "from datetime import datetime\n",
    "import joblib\n",
    "\n",
    "data = data.drop('label', axis=1)\n",
    "df = data.drop(['connection_type','protocol_type', 'service', 'flag'], axis=1)\n",
    "Y = data['connection_type'].values\n",
    "X = data.drop('connection_type', axis=1)"
   ]
  },
  {
   "cell_type": "code",
   "execution_count": 28,
   "metadata": {},
   "outputs": [
    {
     "data": {
      "text/plain": [
       "array(['normal', 'normal', 'normal', ..., 'normal', 'normal', 'normal'],\n",
       "      dtype=object)"
      ]
     },
     "execution_count": 28,
     "metadata": {},
     "output_type": "execute_result"
    }
   ],
   "source": [
    "Y"
   ]
  },
  {
   "cell_type": "code",
   "execution_count": 29,
   "metadata": {},
   "outputs": [],
   "source": [
    "from sklearn.manifold import TSNE\n",
    "\n",
    "def tsne_func(data, label, no_components, perplexity_value, n_iter_value):\n",
    "    '''\n",
    "    This function applies TSNE on the original dataset with  no_components, perplexity_value, n_iter_value as the TSNE parameters \n",
    "    and transforms the original dataset into TSNE transformed feature space with the tsne dataset containing number of features \n",
    "    equal to the value specified for no_components and also plots the scatter plot of the transformed data points along with \n",
    "    their class label \n",
    "    '''\n",
    "    \n",
    "    print('TSNE with perplexity={} and no. of iterations={}'.format(perplexity_value, n_iter_value))\n",
    "    \n",
    "    tsne = TSNE(n_components=no_components, perplexity=perplexity_value, n_iter=n_iter_value)\n",
    "    \n",
    "    tsne_df1 = tsne.fit_transform(data)\n",
    "    print(tsne_df1.shape)\n",
    "    tsne_df1 = np.vstack((tsne_df1.T, Y)).T\n",
    "    tsne_data1 = pd.DataFrame(data=tsne_df1, columns=['feature1', 'feature2', 'Output'])\n",
    "    sns.FacetGrid(tsne_data1, hue='Output', height=6).map(plt.scatter, 'feature1', 'feature2').add_legend()\n",
    "    print('Duration:',datetime.now()-start)\n",
    "    plt.show()\n"
   ]
  },
  {
   "cell_type": "code",
   "execution_count": 30,
   "metadata": {},
   "outputs": [],
   "source": [
    "#tsne_func(df, \"connection_type\", no_components=2, perplexity_value =100, n_iter_value=500)"
   ]
  },
  {
   "cell_type": "code",
   "execution_count": 31,
   "metadata": {},
   "outputs": [],
   "source": [
    "#tsne_func(df, \"connection_type\", no_components=2, perplexity_value =50, n_iter_value=1000)"
   ]
  },
  {
   "cell_type": "markdown",
   "metadata": {},
   "source": [
    " ### (4) Applying Machine Learning Models:"
   ]
  },
  {
   "cell_type": "markdown",
   "metadata": {},
   "source": [
    "#### Spliting data into trainining and test"
   ]
  },
  {
   "cell_type": "code",
   "execution_count": 32,
   "metadata": {},
   "outputs": [],
   "source": [
    "from sklearn.model_selection import train_test_split\n",
    "X_train, X_test, Y_train, Y_test = train_test_split(X, Y, stratify=data['connection_type'],random_state=42, test_size=0.20)"
   ]
  },
  {
   "cell_type": "code",
   "execution_count": 33,
   "metadata": {},
   "outputs": [
    {
     "name": "stdout",
     "output_type": "stream",
     "text": [
      "Train data\n",
      "(116468, 41)\n",
      "(116468,)\n",
      "====================\n",
      "Test data\n",
      "(29118, 41)\n",
      "(29118,)\n"
     ]
    }
   ],
   "source": [
    "print('Train data')\n",
    "print(X_train.shape)\n",
    "print(Y_train.shape)\n",
    "print('='*20)\n",
    "print('Test data')\n",
    "print(X_test.shape)\n",
    "print(Y_test.shape)"
   ]
  },
  {
   "cell_type": "code",
   "execution_count": 34,
   "metadata": {},
   "outputs": [
    {
     "name": "stdout",
     "output_type": "stream",
     "text": [
      "Total number of classes :  23\n",
      "Output classes :  ['back' 'buffer_overflow' 'ftp_write' 'guess_passwd' 'imap' 'ipsweep'\n",
      " 'land' 'loadmodule' 'multihop' 'neptune' 'nmap' 'normal' 'perl' 'phf'\n",
      " 'pod' 'portsweep' 'rootkit' 'satan' 'smurf' 'spy' 'teardrop'\n",
      " 'warezclient' 'warezmaster']\n",
      "Total number of classes :  23\n",
      "Output classes :  ['back' 'buffer_overflow' 'ftp_write' 'guess_passwd' 'imap' 'ipsweep'\n",
      " 'land' 'loadmodule' 'multihop' 'neptune' 'nmap' 'normal' 'perl' 'phf'\n",
      " 'pod' 'portsweep' 'rootkit' 'satan' 'smurf' 'spy' 'teardrop'\n",
      " 'warezclient' 'warezmaster']\n",
      "Total number of classes :  21\n",
      "Output classes :  ['back' 'buffer_overflow' 'ftp_write' 'guess_passwd' 'imap' 'ipsweep'\n",
      " 'land' 'loadmodule' 'multihop' 'neptune' 'nmap' 'normal' 'phf' 'pod'\n",
      " 'portsweep' 'rootkit' 'satan' 'smurf' 'teardrop' 'warezclient'\n",
      " 'warezmaster']\n"
     ]
    }
   ],
   "source": [
    "classes = np.unique(Y)\n",
    "nClasses = len(classes)\n",
    "print('Total number of classes : ', nClasses)\n",
    "print('Output classes : ', classes)\n",
    "\n",
    "\n",
    "classes = np.unique(Y_train)\n",
    "nClasses = len(classes)\n",
    "print('Total number of classes : ', nClasses)\n",
    "print('Output classes : ', classes)\n",
    "\n",
    "\n",
    "classes = np.unique(Y_test)\n",
    "nClasses = len(classes)\n",
    "print('Total number of classes : ', nClasses)\n",
    "print('Output classes : ', classes)"
   ]
  },
  {
   "cell_type": "markdown",
   "metadata": {},
   "source": [
    "### Vectorizing Categorical features using one-hot encoding:-\n",
    "\n",
    "Categorical features in our dataset are:- 'protocol_type', 'service', and 'flag"
   ]
  },
  {
   "cell_type": "markdown",
   "metadata": {},
   "source": [
    "#### Protocol type"
   ]
  },
  {
   "cell_type": "code",
   "execution_count": 35,
   "metadata": {},
   "outputs": [
    {
     "name": "stdout",
     "output_type": "stream",
     "text": [
      "Protocol types are: ['tcp', 'udp', 'icmp']\n"
     ]
    }
   ],
   "source": [
    "protocol = list(X_train['protocol_type'].values)\n",
    "protocol = list(set(protocol))\n",
    "print('Protocol types are:', protocol)"
   ]
  },
  {
   "cell_type": "code",
   "execution_count": 36,
   "metadata": {},
   "outputs": [],
   "source": [
    "from sklearn.feature_extraction.text import CountVectorizer\n",
    "one_hot = CountVectorizer(vocabulary=protocol, binary=True)\n",
    "train_protocol = one_hot.fit_transform(X_train['protocol_type'].values)\n",
    "test_protocol = one_hot.transform(X_test['protocol_type'].values)"
   ]
  },
  {
   "cell_type": "code",
   "execution_count": 37,
   "metadata": {},
   "outputs": [
    {
     "name": "stdout",
     "output_type": "stream",
     "text": [
      "[[1 0 0]]\n"
     ]
    },
    {
     "data": {
      "text/plain": [
       "(116468, 3)"
      ]
     },
     "execution_count": 37,
     "metadata": {},
     "output_type": "execute_result"
    }
   ],
   "source": [
    "print(train_protocol[1].toarray())\n",
    "train_protocol.shape"
   ]
  },
  {
   "cell_type": "markdown",
   "metadata": {},
   "source": [
    "#### Service Types"
   ]
  },
  {
   "cell_type": "code",
   "execution_count": 38,
   "metadata": {},
   "outputs": [
    {
     "name": "stdout",
     "output_type": "stream",
     "text": [
      "Service types are:\n",
      " ['time', 'Z39_50', 'http_443', 'csnet_ns', 'ftp_data', 'efs', 'imap4', 'smtp', 'uucp_path', 'whois', 'domain_u', 'exec', 'netbios_ns', 'urp_i', 'http', 'name', 'X11', 'urh_i', 'ssh', 'hostnames', 'netbios_ssn', 'gopher', 'pm_dump', 'systat', 'link', 'iso_tsap', 'echo', 'netstat', 'sql_net', 'kshell', 'nnsp', 'finger', 'shell', 'bgp', 'pop_3', 'tim_i', 'pop_2', 'ftp', 'courier', 'rje', 'vmnet', 'sunrpc', 'discard', 'remote_job', 'uucp', 'auth', 'netbios_dgm', 'daytime', 'supdup', 'private', 'IRC', 'mtp', 'login', 'printer', 'domain', 'ecr_i', 'red_i', 'ldap', 'ctf', 'eco_i', 'telnet', 'other', 'nntp', 'klogin', 'ntp_u']\n"
     ]
    }
   ],
   "source": [
    "service = list(X_train['service'].values)\n",
    "service = list(set(service))\n",
    "print('Service types are:\\n', service)"
   ]
  },
  {
   "cell_type": "code",
   "execution_count": 39,
   "metadata": {},
   "outputs": [],
   "source": [
    "from sklearn.feature_extraction.text import CountVectorizer\n",
    "from scipy.sparse import hstack\n",
    "    \n",
    "one_hot = CountVectorizer(vocabulary=service, binary=True)\n",
    "train_service = one_hot.fit_transform(X_train['service'].values)\n",
    "test_service = one_hot.transform(X_test['service'].values)"
   ]
  },
  {
   "cell_type": "code",
   "execution_count": 40,
   "metadata": {},
   "outputs": [
    {
     "name": "stdout",
     "output_type": "stream",
     "text": [
      "[[0 0 0 0 0 0 0 0 0 0 1 0 0 0 0 0 0 0 0 0 0 0 0 0 0 0 0 0 0 0 0 0 0 0 0 0\n",
      "  0 0 0 0 0 0 0 0 0 0 0 0 0 0 0 0 0 0 0 0 0 0 0 0 0 0 0 0 0]]\n"
     ]
    }
   ],
   "source": [
    "print(train_service[100].toarray())"
   ]
  },
  {
   "cell_type": "code",
   "execution_count": 41,
   "metadata": {},
   "outputs": [
    {
     "data": {
      "text/plain": [
       "(116468, 65)"
      ]
     },
     "execution_count": 41,
     "metadata": {},
     "output_type": "execute_result"
    }
   ],
   "source": [
    "train_service.shape"
   ]
  },
  {
   "cell_type": "code",
   "execution_count": 42,
   "metadata": {},
   "outputs": [
    {
     "name": "stdout",
     "output_type": "stream",
     "text": [
      "flag types are: ['SF', 'SH', 'S1', 'S0', 'RSTR', 'OTH', 'S3', 'REJ', 'RSTO', 'RSTOS0', 'S2']\n"
     ]
    }
   ],
   "source": [
    "flag = list(X_train['flag'].values)\n",
    "flag = list(set(flag))\n",
    "print('flag types are:', flag)"
   ]
  },
  {
   "cell_type": "code",
   "execution_count": 43,
   "metadata": {},
   "outputs": [],
   "source": [
    "from sklearn.feature_extraction.text import CountVectorizer\n",
    "one_hot = CountVectorizer(binary=True)\n",
    "one_hot.fit(X_train['flag'].values)\n",
    "train_flag = one_hot.transform(X_train['flag'].values)\n",
    "test_flag = one_hot.transform(X_test['flag'].values)"
   ]
  },
  {
   "cell_type": "code",
   "execution_count": 44,
   "metadata": {},
   "outputs": [
    {
     "name": "stdout",
     "output_type": "stream",
     "text": [
      "[[0 0 0 0 0 0 0 0 0 1 0]]\n"
     ]
    },
    {
     "data": {
      "text/plain": [
       "(116468, 11)"
      ]
     },
     "execution_count": 44,
     "metadata": {},
     "output_type": "execute_result"
    }
   ],
   "source": [
    "print(test_flag[3000].toarray())\n",
    "train_flag.shape"
   ]
  },
  {
   "cell_type": "code",
   "execution_count": 45,
   "metadata": {},
   "outputs": [
    {
     "name": "stderr",
     "output_type": "stream",
     "text": [
      "/root/Projects/Python/AdaptiveSIEMAlerting/venv/lib/python3.8/site-packages/pandas/core/frame.py:3990: SettingWithCopyWarning: \n",
      "A value is trying to be set on a copy of a slice from a DataFrame\n",
      "\n",
      "See the caveats in the documentation: https://pandas.pydata.org/pandas-docs/stable/user_guide/indexing.html#returning-a-view-versus-a-copy\n",
      "  return super().drop(\n"
     ]
    }
   ],
   "source": [
    "X_train.drop(['protocol_type','service','flag'], axis=1, inplace=True)\n",
    "X_test.drop(['protocol_type','service','flag'], axis=1, inplace=True)"
   ]
  },
  {
   "cell_type": "code",
   "execution_count": 46,
   "metadata": {},
   "outputs": [],
   "source": [
    "def feature_scaling(X_train, X_test, feature_name):\n",
    "    \n",
    "    '''\n",
    "    This function performs standardisation on the features\n",
    "    '''\n",
    "    \n",
    "    from sklearn.preprocessing import StandardScaler\n",
    "\n",
    "    scaler = StandardScaler()\n",
    "    scaler1 = scaler.fit_transform(X_train[feature_name].values.reshape(-1,1))\n",
    "    scaler2 = scaler.transform(X_test[feature_name].values.reshape(-1,1))\n",
    "    \n",
    "    return scaler1, scaler2"
   ]
  },
  {
   "cell_type": "code",
   "execution_count": null,
   "metadata": {},
   "outputs": [],
   "source": []
  },
  {
   "cell_type": "code",
   "execution_count": 47,
   "metadata": {},
   "outputs": [],
   "source": [
    "def one_hot_code(X_train, X_test):\n",
    "    #### duration\n",
    "    duration1, duration2 = feature_scaling(X_train, X_test, 'duration')\n",
    "    print(\"Duration:\",duration1[1])\n",
    "    #### src_bytes\n",
    "    src_bytes1, src_bytes2 = feature_scaling(X_train, X_test, 'src_bytes')\n",
    "    print(\"Source Bytes:\", src_bytes1[1])\n",
    "    #### dst_bytes\n",
    "    dst_bytes1, dst_bytes2 = feature_scaling(X_train, X_test, 'dst_bytes')\n",
    "    print(\"Destination Bytes:\", src_bytes1[1])\n",
    "    #### wrong_fragment\n",
    "    wrong_fragment1, wrong_fragment2 = feature_scaling(X_train, X_test, 'wrong_fragment')\n",
    "    print(\"Wrong Fragment:\", wrong_fragment1[1])\n",
    "    #### urgent \n",
    "    urgent1, urgent2 = feature_scaling(X_train, X_test, 'urgent')\n",
    "    print(\"Urgent:\", urgent1[1])\n",
    "    \n",
    "    hot1, hot2 = feature_scaling(X_train, X_test, 'hot')\n",
    "    \n",
    "    print(hot1[1])\n",
    "    \n",
    "    #####num_failed_logins#####\n",
    "    \n",
    "    num_failed_logins1, num_failed_logins2 = feature_scaling(X_train, X_test, 'num_failed_logins')\n",
    "    \n",
    "    print(num_failed_logins1[1])\n",
    "    \n",
    "    #####num_compromised :-#####\n",
    "    \n",
    "    num_compromised1, num_compromised2 = feature_scaling(X_train, X_test, 'num_compromised')\n",
    "    \n",
    "    num_compromised1[1]\n",
    "    \n",
    "    #####root_shell :-#####\n",
    "    \n",
    "    root_shell1, root_shell2 = feature_scaling(X_train, X_test, 'root_shell')\n",
    "    \n",
    "    root_shell1[1]\n",
    "    \n",
    "    #####su_attempted :-#####\n",
    "    \n",
    "    su_attempted1, su_attempted2 = feature_scaling(X_train, X_test, 'su_attempted')\n",
    "    \n",
    "    su_attempted1[1]\n",
    "    \n",
    "    #####num_root:-#####\n",
    "    \n",
    "    num_root1, num_root2 = feature_scaling(X_train, X_test, 'num_root')\n",
    "    \n",
    "    num_root1[1]\n",
    "    \n",
    "    #####num_file_creations:-#####\n",
    "    \n",
    "    num_file_creations1, num_file_creations2 = feature_scaling(X_train, X_test, 'num_file_creations')\n",
    "    \n",
    "    num_file_creations1[1]\n",
    "    \n",
    "    #####num_shells:-#####\n",
    "    \n",
    "    num_shells1, num_shells2 = feature_scaling(X_train, X_test, 'num_shells')\n",
    "    \n",
    "    num_shells1[1]\n",
    "    \n",
    "    #####num_access_files:-#####\n",
    "    \n",
    "    num_access_files1, num_access_files2 = feature_scaling(X_train, X_test, 'num_access_files')\n",
    "    \n",
    "    num_access_files1[1]\n",
    "    \n",
    "    #####num_outbound_cmds:-#####\n",
    "    \n",
    "    data['num_outbound_cmds'].value_counts()\n",
    "    \n",
    "    #####- We will not use 'num_outbound_cmds' feature as it has all zero values.#####\n",
    "    \n",
    "    #####srv_count:-#####\n",
    "    \n",
    "    srv_count1, srv_count2 = feature_scaling(X_train, X_test, 'srv_count')\n",
    "    \n",
    "    srv_count1[1]\n",
    "    \n",
    "    #####serror_rate:-#####\n",
    "    \n",
    "    serror_rate1, serror_rate2 = feature_scaling(X_train, X_test, 'serror_rate')\n",
    "    \n",
    "    serror_rate1[1]\n",
    "    \n",
    "    #####srv_serror_rate:-#####\n",
    "    \n",
    "    srv_serror_rate1, srv_serror_rate2 = feature_scaling(X_train, X_test, 'srv_serror_rate')\n",
    "    \n",
    "    srv_serror_rate1[1]\n",
    "    \n",
    "    #####rerror_rate:-#####\n",
    "    \n",
    "    rerror_rate1, rerror_rate2 = feature_scaling(X_train, X_test, 'rerror_rate')\n",
    "    \n",
    "    rerror_rate1[1]\n",
    "    \n",
    "    #####srv_rerror_rate :-#####\n",
    "    \n",
    "    srv_rerror_rate1, srv_rerror_rate2 = feature_scaling(X_train, X_test, 'srv_rerror_rate')\n",
    "    \n",
    "    srv_rerror_rate1[1]\n",
    "    \n",
    "    #####same_srv_rate:-#####\n",
    "    \n",
    "    same_srv_rate1, same_srv_rate2 = feature_scaling(X_train, X_test, 'same_srv_rate')\n",
    "    \n",
    "    same_srv_rate1[1]\n",
    "    \n",
    "    #####diff_srv_rate:-#####\n",
    "    \n",
    "    diff_srv_rate1, diff_srv_rate2 = feature_scaling(X_train, X_test, 'diff_srv_rate')\n",
    "    \n",
    "    diff_srv_rate1[1]\n",
    "    \n",
    "    #####srv_diff_host_rate:-#####\n",
    "    \n",
    "    srv_diff_host_rate1, srv_diff_host_rate2 = feature_scaling(X_train, X_test, 'srv_diff_host_rate')\n",
    "    \n",
    "    srv_diff_host_rate1[1]\n",
    "    \n",
    "    #####dst_host_count:-#####\n",
    "    \n",
    "    dst_host_count1, dst_host_count2 = feature_scaling(X_train, X_test, 'dst_host_count')\n",
    "    \n",
    "    dst_host_count1[1]\n",
    "    \n",
    "    #####dst_host_srv_count:-#####\n",
    "    \n",
    "    dst_host_srv_count1, dst_host_srv_count2 = feature_scaling(X_train, X_test, 'dst_host_srv_count')\n",
    "    \n",
    "    dst_host_srv_count1[1]\n",
    "    \n",
    "    #####dst_host_same_srv_rate:-#####\n",
    "    \n",
    "    dst_host_same_srv_rate1, dst_host_same_srv_rate2= feature_scaling(X_train, X_test, 'dst_host_same_srv_rate')\n",
    "    \n",
    "    dst_host_same_srv_rate1[1]\n",
    "    \n",
    "    #####dst_host_diff_srv_rate:-#####\n",
    "    \n",
    "    dst_host_diff_srv_rate1, dst_host_diff_srv_rate2 = feature_scaling(X_train, X_test, 'dst_host_diff_srv_rate')\n",
    "    \n",
    "    dst_host_diff_srv_rate1[1]\n",
    "    \n",
    "    #####dst_host_same_src_port_rate:-#####\n",
    "    \n",
    "    dst_host_same_src_port_rate1, dst_host_same_src_port_rate2 = feature_scaling(X_train, X_test, 'dst_host_same_src_port_rate')\n",
    "    \n",
    "    dst_host_same_src_port_rate1[1]\n",
    "    \n",
    "    #####dst_host_srv_diff_host_rate:-#####\n",
    "    \n",
    "    dst_host_srv_diff_host_rate1, dst_host_srv_diff_host_rate2 = feature_scaling(X_train, X_test, 'dst_host_srv_diff_host_rate')\n",
    "    \n",
    "    dst_host_srv_diff_host_rate1[1]\n",
    "    \n",
    "    #####dst_host_serror_rate:-#####\n",
    "    \n",
    "    dst_host_serror_rate1, dst_host_serror_rate2 = feature_scaling(X_train, X_test, 'dst_host_serror_rate')\n",
    "    \n",
    "    dst_host_serror_rate1[1]\n",
    "    \n",
    "    #####dst_host_srv_serror_rate:-#####\n",
    "    \n",
    "    dst_host_srv_serror_rate1, dst_host_srv_serror_rate2 = feature_scaling(X_train, X_test, 'dst_host_srv_serror_rate')\n",
    "    \n",
    "    dst_host_srv_serror_rate1[1]\n",
    "    \n",
    "    #####dst_host_rerror_rate:-#####\n",
    "    \n",
    "    dst_host_rerror_rate1, dst_host_rerror_rate2 = feature_scaling(X_train, X_test, 'dst_host_rerror_rate')\n",
    "    \n",
    "    dst_host_rerror_rate1[1]\n",
    "    \n",
    "    #####dst_host_srv_rerror_rate:-#####\n",
    "    \n",
    "    dst_host_srv_rerror_rate1, dst_host_srv_rerror_rate2 = feature_scaling(X_train, X_test, 'dst_host_srv_rerror_rate')\n",
    "    \n",
    "    dst_host_srv_rerror_rate1[1]\n",
    "    \n",
    "    #####num_failed_logins :-#####\n",
    "    \n",
    "    num_failed_logins1, num_failed_logins2 = feature_scaling(X_train, X_test, 'num_failed_logins')\n",
    "    \n",
    "    num_failed_logins1[1]\n",
    "    \n",
    "    #####land:-#####\n",
    "    \n",
    "    land1, land2 = np.array([X_train['land'].values]), np.array([X_test['land'].values])\n",
    "    \n",
    "    land1.shape\n",
    "    \n",
    "    #####is_host_login :-#####\n",
    "    \n",
    "    is_host_login1, is_host_login2 = np.array([X_train['is_host_login'].values]), np.array([X_test['is_host_login'].values])\n",
    "    \n",
    "    is_host_login1.shape\n",
    "    \n",
    "    #####is_guest_login :-#####\n",
    "    \n",
    "    is_guest_login1, is_guest_login2 = np.array([X_train['is_guest_login'].values]), np.array([X_test['is_guest_login'].values])\n",
    "    \n",
    "    is_guest_login1.shape\n",
    "    \n",
    "    #####logged_in :-#####\n",
    "    \n",
    "    logged_in1, logged_in2 = np.array([X_train['logged_in'].values]), np.array([X_test['logged_in'].values])\n",
    "    \n",
    "    logged_in1.shape\n",
    "    \n",
    "    #####count:-#####\n",
    "    \n",
    "    count1, count2 = feature_scaling(X_train, X_test, 'count')\n",
    "    \n",
    "    count1[1]\n",
    "    \n",
    "    #####dst_host_diff_srv_rate:-#####\n",
    "    \n",
    "    dst_host_diff_srv_rate1, dst_host_diff_srv_rate2 = feature_scaling(X_train, X_test, 'dst_host_diff_srv_rate')\n",
    "    \n",
    "    dst_host_diff_srv_rate1[1]\n",
    "\n",
    "    X_train_1 = hstack((duration1, train_protocol, train_service, train_flag, src_bytes1,\n",
    "    dst_bytes1, land1.T, wrong_fragment1, urgent1, hot1,\n",
    "    num_failed_logins1, logged_in1.T, num_compromised1, root_shell1,\n",
    "    su_attempted1, num_root1, num_file_creations1, num_shells1,\n",
    "    num_access_files1, is_host_login1.T,\n",
    "    is_guest_login1.T, count1, srv_count1, serror_rate1,\n",
    "    srv_serror_rate1, rerror_rate1, srv_rerror_rate1, same_srv_rate1,\n",
    "    diff_srv_rate1, srv_diff_host_rate1, dst_host_count1,\n",
    "    dst_host_srv_count1, dst_host_same_srv_rate1,\n",
    "    dst_host_diff_srv_rate1, dst_host_same_src_port_rate1,\n",
    "    dst_host_srv_diff_host_rate1, dst_host_serror_rate1,\n",
    "    dst_host_srv_serror_rate1, dst_host_rerror_rate1,\n",
    "    dst_host_srv_rerror_rate1))\n",
    "\n",
    "    X_test_1 = hstack((duration2, test_protocol, test_service, test_flag, src_bytes2,\n",
    "    dst_bytes2, land2.T, wrong_fragment2, urgent2, hot2,\n",
    "    num_failed_logins2, logged_in2.T, num_compromised2, root_shell2,\n",
    "    su_attempted2, num_root2, num_file_creations2, num_shells2,\n",
    "    num_access_files2, is_host_login2.T,\n",
    "    is_guest_login2.T, count2, srv_count2, serror_rate2,\n",
    "    srv_serror_rate2, rerror_rate2, srv_rerror_rate2, same_srv_rate2,\n",
    "    diff_srv_rate2, srv_diff_host_rate2, dst_host_count2,\n",
    "    dst_host_srv_count2, dst_host_same_srv_rate2,\n",
    "    dst_host_diff_srv_rate2, dst_host_same_src_port_rate2,\n",
    "    dst_host_srv_diff_host_rate2, dst_host_serror_rate2,\n",
    "    dst_host_srv_serror_rate2, dst_host_rerror_rate2,\n",
    "    dst_host_srv_rerror_rate2))\n",
    "    \n",
    "    return X_train_1, X_test_1\n"
   ]
  },
  {
   "cell_type": "code",
   "execution_count": 48,
   "metadata": {},
   "outputs": [
    {
     "name": "stdout",
     "output_type": "stream",
     "text": [
      "Duration: [-0.1085034]\n",
      "Source Bytes: [-0.02854002]\n",
      "Destination Bytes: [-0.02854002]\n",
      "Wrong Fragment: [-0.08434863]\n",
      "Urgent: [-0.00441748]\n",
      "[-0.07047057]\n",
      "[-0.01758389]\n"
     ]
    }
   ],
   "source": [
    "X_train_1, X_test_1 = one_hot_code(X_train, X_test)"
   ]
  },
  {
   "cell_type": "code",
   "execution_count": 49,
   "metadata": {},
   "outputs": [],
   "source": [
    "X_test_1.shape\n",
    "\n",
    "import joblib\n",
    "joblib.dump(X_train_1,'X_train_1.pkl')\n",
    "joblib.dump(X_test_1,'X_test_1.pkl')\n",
    "X_train_1 = joblib.load('X_train_1.pkl')\n",
    "X_test_1 = joblib.load('X_test_1.pkl')\n",
    "\n",
    "joblib.dump(Y_train,'Y_train.pkl')\n",
    "joblib.dump(Y_test,'Y_test.pkl')\n",
    "Y_train = joblib.load('Y_train.pkl')\n",
    "Y_test = joblib.load('Y_test.pkl')"
   ]
  },
  {
   "cell_type": "code",
   "execution_count": 50,
   "metadata": {},
   "outputs": [],
   "source": [
    "import datetime as dt\n",
    "from sklearn.metrics import accuracy_score, confusion_matrix, roc_auc_score, precision_score, recall_score, f1_score\n",
    "from sklearn.model_selection import GridSearchCV, RandomizedSearchCV"
   ]
  },
  {
   "cell_type": "code",
   "execution_count": 51,
   "metadata": {},
   "outputs": [],
   "source": [
    "def confusion_matrix_func(Y_test, y_test_pred):\n",
    "    '''\n",
    "    This function plots the confusion matrix heatmap using the actual and predicted values.\n",
    "    '''\n",
    "    C = confusion_matrix(Y_test, y_test_pred)\n",
    "    cm_df = pd.DataFrame(C)\n",
    "    labels = ['nmap', 'portsweep', 'phf', 'satan', 'warezmaster', 'buffer_overflow', 'teardrop', 'back', 'ftp_write',\n",
    "              'smurf', 'imap', 'land', 'multihop', 'spy', 'ipsweep', 'normal', 'loadmodule', 'pod', 'perl', 'rootkit',\n",
    "              'neptune', 'guess_passwd', 'warezclient']\n",
    "  \n",
    "    plt.figure(figsize=(20,15))\n",
    "    sns.set(font_scale=1.4)\n",
    "    sns.heatmap(cm_df, annot=True, annot_kws={\"size\":12}, fmt='g', xticklabels=labels, yticklabels=labels)\n",
    "    plt.ylabel('Actual Class')\n",
    "    plt.xlabel('Predicted Class')\n",
    "    \n",
    "    plt.show()"
   ]
  },
  {
   "cell_type": "code",
   "execution_count": 52,
   "metadata": {},
   "outputs": [],
   "source": [
    "def model(model_name, X_train, Y_train, X_test, Y_test):\n",
    "    \n",
    "    '''\n",
    "    This function computes the performance scores on the train and test data.\n",
    "    '''\n",
    "    \n",
    "    print('Fitting the model and prediction on train data:')\n",
    "    start = dt.datetime.now()\n",
    "    model_name.fit(X_train, Y_train)\n",
    "    y_tr_pred = model_name.predict(X_train)\n",
    "    print('Completed')\n",
    "    print('Time taken:',dt.datetime.now()-start)\n",
    "    print('='*50)\n",
    "    \n",
    "    results_tr = dict()\n",
    "    y_tr_pred = model_name.predict(X_train)    \n",
    "    results_tr['precision'] = precision_score(Y_train, y_tr_pred, average='weighted')\n",
    "    results_tr['recall'] = recall_score(Y_train, y_tr_pred, average='weighted')\n",
    "    results_tr['f1_score'] = f1_score(Y_train, y_tr_pred, average='weighted')\n",
    "    \n",
    "    results_test = dict()\n",
    "    print('Prediction on test data:')\n",
    "    start = dt.datetime.now()\n",
    "    y_test_pred = model_name.predict(X_test)\n",
    "    print('Completed')\n",
    "    print('Time taken:',dt.datetime.now()-start)\n",
    "    print('='*50)\n",
    "    \n",
    "    print('Performance metrics:')\n",
    "    print('='*50)\n",
    "    print('Confusion Matrix is:')\n",
    "    confusion_matrix_func(Y_test, y_test_pred)\n",
    "    print('='*50)\n",
    "    results_test['precision'] = precision_score(Y_test, y_test_pred, average='weighted')\n",
    "    print('Precision score is:')\n",
    "    print(precision_score(Y_test, y_test_pred, average='weighted'))\n",
    "    print('='*50)\n",
    "    results_test['recall'] = recall_score(Y_test, y_test_pred, average='weighted')\n",
    "    print('Recall score is:')\n",
    "    print(recall_score(Y_test, y_test_pred, average='weighted'))\n",
    "    print('='*50)\n",
    "    results_test['f1_score'] = f1_score(Y_test, y_test_pred, average='weighted')\n",
    "    print('F1-score is:')\n",
    "    print(f1_score(Y_test, y_test_pred, average='weighted'))\n",
    "    # add the trained  model to the results\n",
    "    results_test['model'] = model\n",
    "    \n",
    "    return results_tr, results_test"
   ]
  },
  {
   "cell_type": "code",
   "execution_count": 53,
   "metadata": {},
   "outputs": [],
   "source": [
    "hyperparameter = {'var_smoothing':[10**x for x in range(-9,3)]}\n",
    "\n",
    "from sklearn.naive_bayes import GaussianNB\n",
    "nb = GaussianNB()\n",
    "nb_grid = GridSearchCV(nb, param_grid=hyperparameter, cv=5, verbose=1, n_jobs=-1)"
   ]
  },
  {
   "cell_type": "code",
   "execution_count": 54,
   "metadata": {},
   "outputs": [
    {
     "name": "stdout",
     "output_type": "stream",
     "text": [
      "Fitting the model and prediction on train data:\n",
      "Fitting 5 folds for each of 12 candidates, totalling 60 fits\n"
     ]
    },
    {
     "name": "stderr",
     "output_type": "stream",
     "text": [
      "/root/Projects/Python/AdaptiveSIEMAlerting/venv/lib/python3.8/site-packages/sklearn/model_selection/_split.py:670: UserWarning: The least populated class in y has only 2 members, which is less than n_splits=5.\n",
      "  warnings.warn((\"The least populated class in y has only %d\"\n",
      "[Parallel(n_jobs=-1)]: Using backend LokyBackend with 8 concurrent workers.\n",
      "[Parallel(n_jobs=-1)]: Done  34 tasks      | elapsed:   19.0s\n",
      "[Parallel(n_jobs=-1)]: Done  60 out of  60 | elapsed:   29.0s finished\n"
     ]
    },
    {
     "name": "stdout",
     "output_type": "stream",
     "text": [
      "Completed\n",
      "Time taken: 0:00:32.219717\n",
      "==================================================\n"
     ]
    },
    {
     "name": "stderr",
     "output_type": "stream",
     "text": [
      "/root/Projects/Python/AdaptiveSIEMAlerting/venv/lib/python3.8/site-packages/sklearn/metrics/_classification.py:1221: UndefinedMetricWarning: Precision is ill-defined and being set to 0.0 in labels with no predicted samples. Use `zero_division` parameter to control this behavior.\n",
      "  _warn_prf(average, modifier, msg_start, len(result))\n"
     ]
    },
    {
     "name": "stdout",
     "output_type": "stream",
     "text": [
      "Prediction on test data:\n",
      "Completed\n",
      "Time taken: 0:00:00.517281\n",
      "==================================================\n",
      "Performance metrics:\n",
      "==================================================\n",
      "Confusion Matrix is:\n"
     ]
    },
    {
     "data": {
      "image/png": "[encoded data removed]",
      "text/plain": [
       "<Figure size 1440x1080 with 2 Axes>"
      ]
     },
     "metadata": {},
     "output_type": "display_data"
    },
    {
     "name": "stdout",
     "output_type": "stream",
     "text": [
      "==================================================\n",
      "Precision score is:\n"
     ]
    },
    {
     "name": "stderr",
     "output_type": "stream",
     "text": [
      "/root/Projects/Python/AdaptiveSIEMAlerting/venv/lib/python3.8/site-packages/sklearn/metrics/_classification.py:1221: UndefinedMetricWarning: Precision is ill-defined and being set to 0.0 in labels with no predicted samples. Use `zero_division` parameter to control this behavior.\n",
      "  _warn_prf(average, modifier, msg_start, len(result))\n"
     ]
    },
    {
     "name": "stdout",
     "output_type": "stream",
     "text": [
      "0.9641739573656688\n",
      "==================================================\n"
     ]
    },
    {
     "name": "stderr",
     "output_type": "stream",
     "text": [
      "/root/Projects/Python/AdaptiveSIEMAlerting/venv/lib/python3.8/site-packages/sklearn/metrics/_classification.py:1221: UndefinedMetricWarning: Recall is ill-defined and being set to 0.0 in labels with no true samples. Use `zero_division` parameter to control this behavior.\n",
      "  _warn_prf(average, modifier, msg_start, len(result))\n"
     ]
    },
    {
     "name": "stdout",
     "output_type": "stream",
     "text": [
      "Recall score is:\n",
      "0.9748265677587746\n",
      "==================================================\n",
      "F1-score is:\n",
      "0.9679738823337318\n"
     ]
    }
   ],
   "source": [
    "nb_grid_results_tr, nb_grid_results_test = model(nb_grid, X_train_1.toarray(), Y_train, X_test_1.toarray(), Y_test)"
   ]
  },
  {
   "cell_type": "code",
   "execution_count": 55,
   "metadata": {},
   "outputs": [],
   "source": [
    "from keras.utils import to_categorical\n",
    "\n",
    "from sklearn.preprocessing import LabelEncoder\n",
    "\n",
    "def label_encoder(Y):\n",
    "    encoder = LabelEncoder()\n",
    "    encoder.fit(Y)\n",
    "    encoded_Y = encoder.transform(Y)\n",
    "    y = to_categorical(encoded_Y)\n",
    "    return y\n",
    "\n",
    "\n",
    "Y= label_encoder(Y)"
   ]
  },
  {
   "cell_type": "code",
   "execution_count": 56,
   "metadata": {},
   "outputs": [
    {
     "data": {
      "text/plain": [
       "(145586, 23)"
      ]
     },
     "execution_count": 56,
     "metadata": {},
     "output_type": "execute_result"
    }
   ],
   "source": [
    "Y.shape"
   ]
  },
  {
   "cell_type": "code",
   "execution_count": 57,
   "metadata": {},
   "outputs": [],
   "source": [
    "X_train, X_test, Y_train, Y_test = train_test_split(X, Y,random_state=42, test_size=0.20)"
   ]
  },
  {
   "cell_type": "code",
   "execution_count": 58,
   "metadata": {},
   "outputs": [
    {
     "name": "stdout",
     "output_type": "stream",
     "text": [
      "Duration: [-0.1083763]\n",
      "Source Bytes: [-0.0044031]\n",
      "Destination Bytes: [-0.0044031]\n",
      "Wrong Fragment: [-0.0840174]\n",
      "Urgent: [-0.00529609]\n",
      "[-0.07062339]\n",
      "[-0.01781725]\n"
     ]
    }
   ],
   "source": [
    "X_train, X_test = one_hot_code(X_train, X_test)"
   ]
  },
  {
   "cell_type": "code",
   "execution_count": 59,
   "metadata": {},
   "outputs": [],
   "source": [
    "X_test=np.array(X_test.todense())"
   ]
  },
  {
   "cell_type": "code",
   "execution_count": 60,
   "metadata": {},
   "outputs": [
    {
     "data": {
      "text/plain": [
       "(29118, 116)"
      ]
     },
     "execution_count": 60,
     "metadata": {},
     "output_type": "execute_result"
    }
   ],
   "source": [
    "X_test.shape"
   ]
  },
  {
   "cell_type": "code",
   "execution_count": 61,
   "metadata": {},
   "outputs": [],
   "source": [
    "X_test = X_test.reshape(X_test.shape[0], X_test.shape[1], 1)"
   ]
  },
  {
   "cell_type": "code",
   "execution_count": 62,
   "metadata": {},
   "outputs": [
    {
     "data": {
      "text/plain": [
       "(29118, 116, 1)"
      ]
     },
     "execution_count": 62,
     "metadata": {},
     "output_type": "execute_result"
    }
   ],
   "source": [
    "X_test.shape"
   ]
  },
  {
   "cell_type": "code",
   "execution_count": 63,
   "metadata": {},
   "outputs": [],
   "source": [
    "X_train=np.array(X_train.todense())"
   ]
  },
  {
   "cell_type": "code",
   "execution_count": 64,
   "metadata": {},
   "outputs": [
    {
     "data": {
      "text/plain": [
       "(116468, 116)"
      ]
     },
     "execution_count": 64,
     "metadata": {},
     "output_type": "execute_result"
    }
   ],
   "source": [
    "X_train.shape"
   ]
  },
  {
   "cell_type": "code",
   "execution_count": 65,
   "metadata": {},
   "outputs": [],
   "source": [
    "X_train = X_train.reshape(X_train.shape[0], X_train.shape[1], 1)"
   ]
  },
  {
   "cell_type": "code",
   "execution_count": 66,
   "metadata": {},
   "outputs": [
    {
     "data": {
      "text/plain": [
       "(116468, 116, 1)"
      ]
     },
     "execution_count": 66,
     "metadata": {},
     "output_type": "execute_result"
    }
   ],
   "source": [
    "X_train.shape"
   ]
  },
  {
   "cell_type": "code",
   "execution_count": 67,
   "metadata": {},
   "outputs": [
    {
     "data": {
      "text/plain": [
       "(116468, 23)"
      ]
     },
     "execution_count": 67,
     "metadata": {},
     "output_type": "execute_result"
    }
   ],
   "source": [
    "Y_train.shape"
   ]
  },
  {
   "cell_type": "code",
   "execution_count": 68,
   "metadata": {},
   "outputs": [
    {
     "data": {
      "text/plain": [
       "(29118, 23)"
      ]
     },
     "execution_count": 68,
     "metadata": {},
     "output_type": "execute_result"
    }
   ],
   "source": [
    "Y_test.shape"
   ]
  },
  {
   "cell_type": "code",
   "execution_count": 69,
   "metadata": {},
   "outputs": [],
   "source": [
    "import keras\n",
    "from keras.models import Sequential,Input,Model\n",
    "from keras.layers import Dense, Dropout, Flatten\n",
    "from keras.layers.convolutional import Conv1D, MaxPooling1D\n",
    "from numpy import mean\n",
    "from numpy import std"
   ]
  },
  {
   "cell_type": "code",
   "execution_count": 70,
   "metadata": {},
   "outputs": [],
   "source": [
    "# fit and evaluate a model\n",
    "def evaluate_model(trainX, trainy, testX, testy):\n",
    "    verbose, epochs, batch_size = 0, 10, 32\n",
    "    n_timesteps, n_features, n_outputs = trainX.shape[1], trainX.shape[2], trainy.shape[1]\n",
    "    print(\"Features\", n_features)\n",
    "    print(\"Steps\", n_timesteps)\n",
    "    print(\"Outputs\", n_outputs)\n",
    "    # \n",
    "    model = Sequential()\n",
    "    model.add(Conv1D(filters=64, kernel_size=3, activation='relu', input_shape=(n_timesteps, n_features)))\n",
    "    model.add(Conv1D(filters=64, kernel_size=3, activation='relu'))\n",
    "    model.add(Dropout(0.5))\n",
    "    model.add(MaxPooling1D(pool_size=2))\n",
    "    model.add(Flatten())\n",
    "    model.add(Dense(100, activation='relu'))\n",
    "    model.add(Dense(n_outputs, activation='softmax'))\n",
    "    model.compile(loss='categorical_crossentropy', optimizer='adam', metrics=['accuracy'])\n",
    "    model.summary()\n",
    "    # fit network\n",
    "    model.fit(trainX, trainy, epochs=epochs, batch_size=batch_size, verbose=verbose)\n",
    "    # model save\n",
    "    model.save(\"nid_siem_model.h5\")\n",
    "    # evaluate model\n",
    "    _, accuracy = model.evaluate(testX, testy, batch_size=batch_size, verbose=0)\n",
    "    return accuracy"
   ]
  },
  {
   "cell_type": "code",
   "execution_count": 71,
   "metadata": {},
   "outputs": [],
   "source": [
    "def summarize_results(scores):\n",
    "    print(scores)\n",
    "    m, s = mean(scores), std(scores)\n",
    "    print('Accuracy: %.3f%% (+/-%.3f)' % (m, s))"
   ]
  },
  {
   "cell_type": "code",
   "execution_count": 72,
   "metadata": {},
   "outputs": [
    {
     "name": "stdout",
     "output_type": "stream",
     "text": [
      "(116468, 116, 1) (116468, 116, 1) (116468, 23)\n",
      "Features 1\n",
      "Steps 116\n",
      "Outputs 23\n",
      "Model: \"sequential\"\n",
      "_________________________________________________________________\n",
      "Layer (type)                 Output Shape              Param #   \n",
      "=================================================================\n",
      "conv1d (Conv1D)              (None, 114, 64)           256       \n",
      "_________________________________________________________________\n",
      "conv1d_1 (Conv1D)            (None, 112, 64)           12352     \n",
      "_________________________________________________________________\n",
      "dropout (Dropout)            (None, 112, 64)           0         \n",
      "_________________________________________________________________\n",
      "max_pooling1d (MaxPooling1D) (None, 56, 64)            0         \n",
      "_________________________________________________________________\n",
      "flatten (Flatten)            (None, 3584)              0         \n",
      "_________________________________________________________________\n",
      "dense (Dense)                (None, 100)               358500    \n",
      "_________________________________________________________________\n",
      "dense_1 (Dense)              (None, 23)                2323      \n",
      "=================================================================\n",
      "Total params: 373,431\n",
      "Trainable params: 373,431\n",
      "Non-trainable params: 0\n",
      "_________________________________________________________________\n",
      ">#1: 99.715\n",
      "Features 1\n",
      "Steps 116\n",
      "Outputs 23\n",
      "Model: \"sequential_1\"\n",
      "_________________________________________________________________\n",
      "Layer (type)                 Output Shape              Param #   \n",
      "=================================================================\n",
      "conv1d_2 (Conv1D)            (None, 114, 64)           256       \n",
      "_________________________________________________________________\n",
      "conv1d_3 (Conv1D)            (None, 112, 64)           12352     \n",
      "_________________________________________________________________\n",
      "dropout_1 (Dropout)          (None, 112, 64)           0         \n",
      "_________________________________________________________________\n",
      "max_pooling1d_1 (MaxPooling1 (None, 56, 64)            0         \n",
      "_________________________________________________________________\n",
      "flatten_1 (Flatten)          (None, 3584)              0         \n",
      "_________________________________________________________________\n",
      "dense_2 (Dense)              (None, 100)               358500    \n",
      "_________________________________________________________________\n",
      "dense_3 (Dense)              (None, 23)                2323      \n",
      "=================================================================\n",
      "Total params: 373,431\n",
      "Trainable params: 373,431\n",
      "Non-trainable params: 0\n",
      "_________________________________________________________________\n",
      ">#2: 99.657\n",
      "Features 1\n",
      "Steps 116\n",
      "Outputs 23\n",
      "Model: \"sequential_2\"\n",
      "_________________________________________________________________\n",
      "Layer (type)                 Output Shape              Param #   \n",
      "=================================================================\n",
      "conv1d_4 (Conv1D)            (None, 114, 64)           256       \n",
      "_________________________________________________________________\n",
      "conv1d_5 (Conv1D)            (None, 112, 64)           12352     \n",
      "_________________________________________________________________\n",
      "dropout_2 (Dropout)          (None, 112, 64)           0         \n",
      "_________________________________________________________________\n",
      "max_pooling1d_2 (MaxPooling1 (None, 56, 64)            0         \n",
      "_________________________________________________________________\n",
      "flatten_2 (Flatten)          (None, 3584)              0         \n",
      "_________________________________________________________________\n",
      "dense_4 (Dense)              (None, 100)               358500    \n",
      "_________________________________________________________________\n",
      "dense_5 (Dense)              (None, 23)                2323      \n",
      "=================================================================\n",
      "Total params: 373,431\n",
      "Trainable params: 373,431\n",
      "Non-trainable params: 0\n",
      "_________________________________________________________________\n",
      ">#3: 99.732\n",
      "Features 1\n",
      "Steps 116\n",
      "Outputs 23\n",
      "Model: \"sequential_3\"\n",
      "_________________________________________________________________\n",
      "Layer (type)                 Output Shape              Param #   \n",
      "=================================================================\n",
      "conv1d_6 (Conv1D)            (None, 114, 64)           256       \n",
      "_________________________________________________________________\n",
      "conv1d_7 (Conv1D)            (None, 112, 64)           12352     \n",
      "_________________________________________________________________\n",
      "dropout_3 (Dropout)          (None, 112, 64)           0         \n",
      "_________________________________________________________________\n",
      "max_pooling1d_3 (MaxPooling1 (None, 56, 64)            0         \n",
      "_________________________________________________________________\n",
      "flatten_3 (Flatten)          (None, 3584)              0         \n",
      "_________________________________________________________________\n",
      "dense_6 (Dense)              (None, 100)               358500    \n",
      "_________________________________________________________________\n",
      "dense_7 (Dense)              (None, 23)                2323      \n",
      "=================================================================\n",
      "Total params: 373,431\n",
      "Trainable params: 373,431\n",
      "Non-trainable params: 0\n",
      "_________________________________________________________________\n",
      ">#4: 99.708\n",
      "Features 1\n",
      "Steps 116\n",
      "Outputs 23\n",
      "Model: \"sequential_4\"\n",
      "_________________________________________________________________\n",
      "Layer (type)                 Output Shape              Param #   \n",
      "=================================================================\n",
      "conv1d_8 (Conv1D)            (None, 114, 64)           256       \n",
      "_________________________________________________________________\n",
      "conv1d_9 (Conv1D)            (None, 112, 64)           12352     \n",
      "_________________________________________________________________\n",
      "dropout_4 (Dropout)          (None, 112, 64)           0         \n",
      "_________________________________________________________________\n",
      "max_pooling1d_4 (MaxPooling1 (None, 56, 64)            0         \n",
      "_________________________________________________________________\n",
      "flatten_4 (Flatten)          (None, 3584)              0         \n",
      "_________________________________________________________________\n",
      "dense_8 (Dense)              (None, 100)               358500    \n",
      "_________________________________________________________________\n",
      "dense_9 (Dense)              (None, 23)                2323      \n",
      "=================================================================\n",
      "Total params: 373,431\n",
      "Trainable params: 373,431\n",
      "Non-trainable params: 0\n",
      "_________________________________________________________________\n",
      ">#5: 99.691\n",
      "[99.71495270729065, 99.65656995773315, 99.73212480545044, 99.70808625221252, 99.69091415405273]\n",
      "Accuracy: 99.701% (+/-0.026)\n"
     ]
    }
   ],
   "source": [
    "# run an experiment\n",
    "def run_experiment(repeats=5):\n",
    "    # load data\n",
    "    trainX, trainy, testX, testy = X_train, Y_train, X_test, Y_test\n",
    "    print(trainX.shape, trainX.shape, trainy.shape)\n",
    "    # repeat experiment\n",
    "    scores = list()\n",
    "    for r in range(repeats):\n",
    "        score = evaluate_model(trainX, trainy, testX, testy)\n",
    "        score = score * 100.0\n",
    "        print('>#%d: %.3f' % (r + 1, score))\n",
    "        scores.append(score)\n",
    "    # summarize results\n",
    "    summarize_results(scores)\n",
    "\n",
    "\n",
    "# run the experiment\n",
    "run_experiment()\n"
   ]
  },
  {
   "cell_type": "code",
   "execution_count": 73,
   "metadata": {},
   "outputs": [
    {
     "data": {
      "text/html": [
       "<div>\n",
       "<style scoped>\n",
       "    .dataframe tbody tr th:only-of-type {\n",
       "        vertical-align: middle;\n",
       "    }\n",
       "\n",
       "    .dataframe tbody tr th {\n",
       "        vertical-align: top;\n",
       "    }\n",
       "\n",
       "    .dataframe thead th {\n",
       "        text-align: right;\n",
       "    }\n",
       "</style>\n",
       "<table border=\"1\" class=\"dataframe\">\n",
       "  <thead>\n",
       "    <tr style=\"text-align: right;\">\n",
       "      <th></th>\n",
       "      <th>duration</th>\n",
       "      <th>protocol_type</th>\n",
       "      <th>service</th>\n",
       "      <th>flag</th>\n",
       "      <th>src_bytes</th>\n",
       "      <th>dst_bytes</th>\n",
       "      <th>land</th>\n",
       "      <th>wrong_fragment</th>\n",
       "      <th>urgent</th>\n",
       "      <th>hot</th>\n",
       "      <th>...</th>\n",
       "      <th>dst_host_count</th>\n",
       "      <th>dst_host_srv_count</th>\n",
       "      <th>dst_host_same_srv_rate</th>\n",
       "      <th>dst_host_diff_srv_rate</th>\n",
       "      <th>dst_host_same_src_port_rate</th>\n",
       "      <th>dst_host_srv_diff_host_rate</th>\n",
       "      <th>dst_host_serror_rate</th>\n",
       "      <th>dst_host_srv_serror_rate</th>\n",
       "      <th>dst_host_rerror_rate</th>\n",
       "      <th>dst_host_srv_rerror_rate</th>\n",
       "    </tr>\n",
       "  </thead>\n",
       "  <tbody>\n",
       "    <tr>\n",
       "      <th>0</th>\n",
       "      <td>0</td>\n",
       "      <td>tcp</td>\n",
       "      <td>http</td>\n",
       "      <td>SF</td>\n",
       "      <td>215</td>\n",
       "      <td>45076</td>\n",
       "      <td>0</td>\n",
       "      <td>0</td>\n",
       "      <td>0</td>\n",
       "      <td>0</td>\n",
       "      <td>...</td>\n",
       "      <td>0</td>\n",
       "      <td>0</td>\n",
       "      <td>0.0</td>\n",
       "      <td>0.0</td>\n",
       "      <td>0.00</td>\n",
       "      <td>0.0</td>\n",
       "      <td>0.0</td>\n",
       "      <td>0.0</td>\n",
       "      <td>0.0</td>\n",
       "      <td>0.0</td>\n",
       "    </tr>\n",
       "    <tr>\n",
       "      <th>1</th>\n",
       "      <td>0</td>\n",
       "      <td>tcp</td>\n",
       "      <td>http</td>\n",
       "      <td>SF</td>\n",
       "      <td>162</td>\n",
       "      <td>4528</td>\n",
       "      <td>0</td>\n",
       "      <td>0</td>\n",
       "      <td>0</td>\n",
       "      <td>0</td>\n",
       "      <td>...</td>\n",
       "      <td>1</td>\n",
       "      <td>1</td>\n",
       "      <td>1.0</td>\n",
       "      <td>0.0</td>\n",
       "      <td>1.00</td>\n",
       "      <td>0.0</td>\n",
       "      <td>0.0</td>\n",
       "      <td>0.0</td>\n",
       "      <td>0.0</td>\n",
       "      <td>0.0</td>\n",
       "    </tr>\n",
       "    <tr>\n",
       "      <th>2</th>\n",
       "      <td>0</td>\n",
       "      <td>tcp</td>\n",
       "      <td>http</td>\n",
       "      <td>SF</td>\n",
       "      <td>236</td>\n",
       "      <td>1228</td>\n",
       "      <td>0</td>\n",
       "      <td>0</td>\n",
       "      <td>0</td>\n",
       "      <td>0</td>\n",
       "      <td>...</td>\n",
       "      <td>2</td>\n",
       "      <td>2</td>\n",
       "      <td>1.0</td>\n",
       "      <td>0.0</td>\n",
       "      <td>0.50</td>\n",
       "      <td>0.0</td>\n",
       "      <td>0.0</td>\n",
       "      <td>0.0</td>\n",
       "      <td>0.0</td>\n",
       "      <td>0.0</td>\n",
       "    </tr>\n",
       "    <tr>\n",
       "      <th>3</th>\n",
       "      <td>0</td>\n",
       "      <td>tcp</td>\n",
       "      <td>http</td>\n",
       "      <td>SF</td>\n",
       "      <td>233</td>\n",
       "      <td>2032</td>\n",
       "      <td>0</td>\n",
       "      <td>0</td>\n",
       "      <td>0</td>\n",
       "      <td>0</td>\n",
       "      <td>...</td>\n",
       "      <td>3</td>\n",
       "      <td>3</td>\n",
       "      <td>1.0</td>\n",
       "      <td>0.0</td>\n",
       "      <td>0.33</td>\n",
       "      <td>0.0</td>\n",
       "      <td>0.0</td>\n",
       "      <td>0.0</td>\n",
       "      <td>0.0</td>\n",
       "      <td>0.0</td>\n",
       "    </tr>\n",
       "    <tr>\n",
       "      <th>4</th>\n",
       "      <td>0</td>\n",
       "      <td>tcp</td>\n",
       "      <td>http</td>\n",
       "      <td>SF</td>\n",
       "      <td>239</td>\n",
       "      <td>486</td>\n",
       "      <td>0</td>\n",
       "      <td>0</td>\n",
       "      <td>0</td>\n",
       "      <td>0</td>\n",
       "      <td>...</td>\n",
       "      <td>4</td>\n",
       "      <td>4</td>\n",
       "      <td>1.0</td>\n",
       "      <td>0.0</td>\n",
       "      <td>0.25</td>\n",
       "      <td>0.0</td>\n",
       "      <td>0.0</td>\n",
       "      <td>0.0</td>\n",
       "      <td>0.0</td>\n",
       "      <td>0.0</td>\n",
       "    </tr>\n",
       "  </tbody>\n",
       "</table>\n",
       "<p>5 rows × 41 columns</p>\n",
       "</div>"
      ],
      "text/plain": [
       "   duration protocol_type service flag  src_bytes  dst_bytes  land  \\\n",
       "0         0           tcp    http   SF        215      45076     0   \n",
       "1         0           tcp    http   SF        162       4528     0   \n",
       "2         0           tcp    http   SF        236       1228     0   \n",
       "3         0           tcp    http   SF        233       2032     0   \n",
       "4         0           tcp    http   SF        239        486     0   \n",
       "\n",
       "   wrong_fragment  urgent  hot  ...  dst_host_count  dst_host_srv_count  \\\n",
       "0               0       0    0  ...               0                   0   \n",
       "1               0       0    0  ...               1                   1   \n",
       "2               0       0    0  ...               2                   2   \n",
       "3               0       0    0  ...               3                   3   \n",
       "4               0       0    0  ...               4                   4   \n",
       "\n",
       "   dst_host_same_srv_rate  dst_host_diff_srv_rate  \\\n",
       "0                     0.0                     0.0   \n",
       "1                     1.0                     0.0   \n",
       "2                     1.0                     0.0   \n",
       "3                     1.0                     0.0   \n",
       "4                     1.0                     0.0   \n",
       "\n",
       "   dst_host_same_src_port_rate  dst_host_srv_diff_host_rate  \\\n",
       "0                         0.00                          0.0   \n",
       "1                         1.00                          0.0   \n",
       "2                         0.50                          0.0   \n",
       "3                         0.33                          0.0   \n",
       "4                         0.25                          0.0   \n",
       "\n",
       "   dst_host_serror_rate  dst_host_srv_serror_rate  dst_host_rerror_rate  \\\n",
       "0                   0.0                       0.0                   0.0   \n",
       "1                   0.0                       0.0                   0.0   \n",
       "2                   0.0                       0.0                   0.0   \n",
       "3                   0.0                       0.0                   0.0   \n",
       "4                   0.0                       0.0                   0.0   \n",
       "\n",
       "   dst_host_srv_rerror_rate  \n",
       "0                       0.0  \n",
       "1                       0.0  \n",
       "2                       0.0  \n",
       "3                       0.0  \n",
       "4                       0.0  \n",
       "\n",
       "[5 rows x 41 columns]"
      ]
     },
     "execution_count": 73,
     "metadata": {},
     "output_type": "execute_result"
    }
   ],
   "source": [
    "data = pd.read_csv('../datastore/kddcup.data_demo.csv', nrows=40000)\n",
    "data.head()"
   ]
  },
  {
   "cell_type": "code",
   "execution_count": null,
   "metadata": {},
   "outputs": [],
   "source": []
  },
  {
   "cell_type": "code",
   "execution_count": 83,
   "metadata": {},
   "outputs": [],
   "source": [
    "def feature_scaling(X, feature_name):\n",
    "    \n",
    "    '''\n",
    "    This function performs standardisation on the features\n",
    "    '''\n",
    "    \n",
    "    from sklearn.preprocessing import StandardScaler\n",
    "\n",
    "    scaler = StandardScaler()\n",
    "    scaler = scaler.fit_transform(X[feature_name].values.reshape(-1,1))\n",
    "    # scaler = scaler.transform(X[feature_name].values.reshape(-1,1))\n",
    "    \n",
    "    return scaler"
   ]
  },
  {
   "cell_type": "code",
   "execution_count": 86,
   "metadata": {},
   "outputs": [],
   "source": [
    "\n",
    "\n",
    "def one_hot_code(X):\n",
    "    #### duration\n",
    "    duration = feature_scaling(X, 'duration')\n",
    "    print(\"Duration:\", duration[1])\n",
    "    #### src_bytes\n",
    "    src_bytes = feature_scaling(X, 'src_bytes')\n",
    "    print(\"Source Bytes:\", src_bytes[1])\n",
    "    #### dst_bytes\n",
    "    dst_bytes = feature_scaling(X, 'dst_bytes')\n",
    "    print(\"Destination Bytes:\", src_bytes[1])\n",
    "    #### wrong_fragment\n",
    "    wrong_fragment = feature_scaling(X, 'wrong_fragment')\n",
    "    print(\"Wrong Fragment:\", wrong_fragment[1])\n",
    "    #### urgent\n",
    "    urgent = feature_scaling(X, 'urgent')\n",
    "    print(\"Urgent:\", urgent[1])\n",
    "\n",
    "    hot = feature_scaling(X, 'hot')\n",
    "\n",
    "    print(hot[1])\n",
    "\n",
    "    #####num_failed_logins#####\n",
    "\n",
    "    num_failed_logins = feature_scaling(X, 'num_failed_logins')\n",
    "\n",
    "    print(num_failed_logins[1])\n",
    "\n",
    "    #####num_compromised :-#####\n",
    "\n",
    "    num_compromised = feature_scaling(X, 'num_compromised')\n",
    "\n",
    "    num_compromised[1]\n",
    "\n",
    "    #####root_shell :-#####\n",
    "\n",
    "    root_shell = feature_scaling(X, 'root_shell')\n",
    "\n",
    "    root_shell[1]\n",
    "\n",
    "    #####su_attempted :-#####\n",
    "\n",
    "    su_attempted = feature_scaling(X, 'su_attempted')\n",
    "\n",
    "    su_attempted[1]\n",
    "\n",
    "    #####num_root:-#####\n",
    "\n",
    "    num_root = feature_scaling(X, 'num_root')\n",
    "\n",
    "    num_root[1]\n",
    "\n",
    "    #####num_file_creations:-#####\n",
    "\n",
    "    num_file_creations = feature_scaling(X, 'num_file_creations')\n",
    "\n",
    "    num_file_creations[1]\n",
    "\n",
    "    #####num_shells:-#####\n",
    "\n",
    "    num_shells = feature_scaling(X, 'num_shells')\n",
    "\n",
    "    num_shells[1]\n",
    "\n",
    "    #####num_access_files:-#####\n",
    "\n",
    "    num_access_files = feature_scaling(X, 'num_access_files')\n",
    "\n",
    "    num_access_files[1]\n",
    "\n",
    "    #####num_outbound_cmds:-#####\n",
    "\n",
    "    data['num_outbound_cmds'].value_counts()\n",
    "\n",
    "    #####- We will not use 'num_outbound_cmds' feature as it has all zero values.#####\n",
    "\n",
    "    #####srv_count:-#####\n",
    "\n",
    "    srv_count = feature_scaling(X, 'srv_count')\n",
    "\n",
    "    srv_count[1]\n",
    "\n",
    "    #####serror_rate:-#####\n",
    "\n",
    "    serror_rate = feature_scaling(X, 'serror_rate')\n",
    "\n",
    "    serror_rate[1]\n",
    "\n",
    "    #####srv_serror_rate:-#####\n",
    "\n",
    "    srv_serror_rate = feature_scaling(X, 'srv_serror_rate')\n",
    "\n",
    "    srv_serror_rate[1]\n",
    "\n",
    "    #####rerror_rate:-#####\n",
    "\n",
    "    rerror_rate = feature_scaling(X, 'rerror_rate')\n",
    "\n",
    "    rerror_rate[1]\n",
    "\n",
    "    #####srv_rerror_rate :-#####\n",
    "\n",
    "    srv_rerror_rate = feature_scaling(X, 'srv_rerror_rate')\n",
    "\n",
    "    srv_rerror_rate[1]\n",
    "\n",
    "    #####same_srv_rate:-#####\n",
    "\n",
    "    same_srv_rate = feature_scaling(X, 'same_srv_rate')\n",
    "\n",
    "    same_srv_rate[1]\n",
    "\n",
    "    #####diff_srv_rate:-#####\n",
    "\n",
    "    diff_srv_rate = feature_scaling(X, 'diff_srv_rate')\n",
    "\n",
    "    diff_srv_rate[1]\n",
    "\n",
    "    #####srv_diff_host_rate:-#####\n",
    "\n",
    "    srv_diff_host_rate = feature_scaling(X, 'srv_diff_host_rate')\n",
    "\n",
    "    srv_diff_host_rate[1]\n",
    "\n",
    "    #####dst_host_count:-#####\n",
    "\n",
    "    dst_host_count = feature_scaling(X, 'dst_host_count')\n",
    "\n",
    "    dst_host_count[1]\n",
    "\n",
    "    #####dst_host_srv_count:-#####\n",
    "\n",
    "    dst_host_srv_count = feature_scaling(X, 'dst_host_srv_count')\n",
    "\n",
    "    dst_host_srv_count[1]\n",
    "\n",
    "    #####dst_host_same_srv_rate:-#####\n",
    "\n",
    "    dst_host_same_srv_rate = feature_scaling(X, 'dst_host_same_srv_rate')\n",
    "\n",
    "    dst_host_same_srv_rate[1]\n",
    "\n",
    "    #####dst_host_diff_srv_rate:-#####\n",
    "\n",
    "    dst_host_diff_srv_rate = feature_scaling(X, 'dst_host_diff_srv_rate')\n",
    "\n",
    "    dst_host_diff_srv_rate[1]\n",
    "\n",
    "    #####dst_host_same_src_port_rate:-#####\n",
    "\n",
    "    dst_host_same_src_port_rate = feature_scaling(X, 'dst_host_same_src_port_rate')\n",
    "\n",
    "    dst_host_same_src_port_rate[1]\n",
    "\n",
    "    #####dst_host_srv_diff_host_rate:-#####\n",
    "\n",
    "    dst_host_srv_diff_host_rate = feature_scaling(X, 'dst_host_srv_diff_host_rate')\n",
    "\n",
    "    dst_host_srv_diff_host_rate[1]\n",
    "\n",
    "    #####dst_host_serror_rate:-#####\n",
    "\n",
    "    dst_host_serror_rate = feature_scaling(X, 'dst_host_serror_rate')\n",
    "\n",
    "    dst_host_serror_rate[1]\n",
    "\n",
    "    #####dst_host_srv_serror_rate:-#####\n",
    "\n",
    "    dst_host_srv_serror_rate = feature_scaling(X, 'dst_host_srv_serror_rate')\n",
    "\n",
    "    dst_host_srv_serror_rate[1]\n",
    "\n",
    "    #####dst_host_rerror_rate:-#####\n",
    "\n",
    "    dst_host_rerror_rate = feature_scaling(X, 'dst_host_rerror_rate')\n",
    "\n",
    "    dst_host_rerror_rate[1]\n",
    "\n",
    "    #####dst_host_srv_rerror_rate:-#####\n",
    "\n",
    "    dst_host_srv_rerror_rate = feature_scaling(X, 'dst_host_srv_rerror_rate')\n",
    "\n",
    "    dst_host_srv_rerror_rate[1]\n",
    "\n",
    "    #####num_failed_logins :-#####\n",
    "    num_failed_logins = feature_scaling(X, 'num_failed_logins')\n",
    "    num_failed_logins[1]\n",
    "    #####land:-#####\n",
    "    land = np.array([X['land'].values])\n",
    "    #####is_host_login :-#####\n",
    "    is_host_login = np.array([X['is_host_login'].values])\n",
    "    #####is_guest_login :-#####\n",
    "    is_guest_login = np.array([X['is_guest_login'].values])\n",
    "    #####logged_in :-#####\n",
    "    logged_in = np.array([X['logged_in'].values])\n",
    "    #####count:-#####\n",
    "    count = feature_scaling(X, 'count')\n",
    "    count[1]\n",
    "    #####dst_host_diff_srv_rate:-#####\n",
    "    dst_host_diff_srv_rate = feature_scaling(X, 'dst_host_diff_srv_rate')\n",
    "    #### protocol ###\n",
    "    protocol = list(X['protocol_type'].values)\n",
    "    protocol = list(set(protocol))\n",
    "    one_hot = CountVectorizer(vocabulary=protocol, binary=True)\n",
    "    protocol = one_hot.transform(X['protocol_type'].values)\n",
    "    ##### services ######\n",
    "    service = list(X['service'].values)\n",
    "    service = list(set(service))\n",
    "    one_hot = CountVectorizer(vocabulary=service, binary=True)\n",
    "    service = one_hot.transform(X['service'].values)\n",
    "    ######flag #######\n",
    "    flag = list(X['flag'].values)\n",
    "    flag = list(set(flag))\n",
    "    one_hot = CountVectorizer(binary=True)\n",
    "    one_hot.fit(X['flag'].values)\n",
    "\n",
    "    flag = one_hot.transform(X['flag'].values)\n",
    "\n",
    "\n",
    "    X = hstack((duration, protocol, service, flag, src_bytes,\n",
    "                        dst_bytes, land.T, wrong_fragment, urgent, hot,\n",
    "                        num_failed_logins, logged_in.T, num_compromised, root_shell,\n",
    "                        su_attempted, num_root, num_file_creations, num_shells,\n",
    "                        num_access_files, is_host_login.T,\n",
    "                        is_guest_login.T, count, srv_count, serror_rate,\n",
    "                        srv_serror_rate, rerror_rate, srv_rerror_rate, same_srv_rate,\n",
    "                        diff_srv_rate, srv_diff_host_rate, dst_host_count,\n",
    "                        dst_host_srv_count, dst_host_same_srv_rate,\n",
    "                        dst_host_diff_srv_rate, dst_host_same_src_port_rate,\n",
    "                        dst_host_srv_diff_host_rate, dst_host_serror_rate,\n",
    "                        dst_host_srv_serror_rate, dst_host_rerror_rate,\n",
    "                        dst_host_srv_rerror_rate))\n",
    "\n",
    "    return X\n"
   ]
  },
  {
   "cell_type": "code",
   "execution_count": 87,
   "metadata": {},
   "outputs": [
    {
     "name": "stdout",
     "output_type": "stream",
     "text": [
      "Duration: [-0.04147663]\n",
      "Source Bytes: [-0.50506426]\n",
      "Destination Bytes: [-0.50506426]\n",
      "Wrong Fragment: [0.]\n",
      "Urgent: [0.]\n",
      "[-0.0273964]\n",
      "[0.]\n"
     ]
    }
   ],
   "source": [
    " X = one_hot_code(data)"
   ]
  },
  {
   "cell_type": "code",
   "execution_count": 88,
   "metadata": {},
   "outputs": [
    {
     "data": {
      "text/plain": [
       "(4000, 48)"
      ]
     },
     "execution_count": 88,
     "metadata": {},
     "output_type": "execute_result"
    }
   ],
   "source": [
    "X.shape"
   ]
  },
  {
   "cell_type": "code",
   "execution_count": 89,
   "metadata": {},
   "outputs": [],
   "source": [
    "X=np.array(X.todense())\n",
    "\n",
    "X = X.reshape(X.shape[0], X.shape[1], 1)"
   ]
  },
  {
   "cell_type": "code",
   "execution_count": 91,
   "metadata": {},
   "outputs": [
    {
     "data": {
      "text/plain": [
       "(4000, 48, 1)"
      ]
     },
     "execution_count": 91,
     "metadata": {},
     "output_type": "execute_result"
    }
   ],
   "source": [
    "X.shape"
   ]
  },
  {
   "cell_type": "code",
   "execution_count": null,
   "metadata": {},
   "outputs": [],
   "source": []
  }
 ],
 "metadata": {
  "kernelspec": {
   "display_name": "Python 3",
   "language": "python",
   "name": "python3"
  },
  "language_info": {
   "codemirror_mode": {
    "name": "ipython",
    "version": 3
   },
   "file_extension": ".py",
   "mimetype": "text/x-python",
   "name": "python",
   "nbconvert_exporter": "python",
   "pygments_lexer": "ipython3",
   "version": "3.8.3rc1"
  }
 },
 "nbformat": 4,
 "nbformat_minor": 1
}
